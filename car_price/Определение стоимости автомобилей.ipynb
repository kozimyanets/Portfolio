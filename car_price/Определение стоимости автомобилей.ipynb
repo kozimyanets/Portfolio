{
 "cells": [
  {
   "cell_type": "markdown",
   "metadata": {},
   "source": [
    "# Определение стоимости автомобилей"
   ]
  },
  {
   "cell_type": "markdown",
   "metadata": {},
   "source": [
    "Сервис по продаже автомобилей с пробегом «Не бит, не крашен» разрабатывает приложение для привлечения новых клиентов. В нём можно быстро узнать рыночную стоимость своего автомобиля. В вашем распоряжении исторические данные: технические характеристики, комплектации и цены автомобилей. Вам нужно построить модель для определения стоимости. \n",
    "\n",
    "Заказчику важны:\n",
    "\n",
    "- качество предсказания;\n",
    "- скорость предсказания;\n",
    "- время обучения."
   ]
  },
  {
   "cell_type": "markdown",
   "metadata": {},
   "source": [
    "## Подготовка данных"
   ]
  },
  {
   "cell_type": "code",
   "execution_count": 1,
   "metadata": {},
   "outputs": [],
   "source": [
    "# Загрузим необходимые модули\n",
    "import statistics\n",
    "\n",
    "import matplotlib as plt\n",
    "import numpy as np\n",
    "import pandas as pd\n",
    "from lightgbm import LGBMRegressor\n",
    "from sklearn import set_config\n",
    "from sklearn.compose import ColumnTransformer, make_column_selector\n",
    "from sklearn.decomposition import PCA\n",
    "from sklearn.dummy import DummyRegressor\n",
    "from sklearn.ensemble import RandomForestRegressor\n",
    "from sklearn.linear_model import SGDRegressor\n",
    "from sklearn.metrics import make_scorer, mean_squared_error\n",
    "from sklearn.model_selection import GridSearchCV, train_test_split\n",
    "from sklearn.pipeline import Pipeline\n",
    "from sklearn.preprocessing import OneHotEncoder, OrdinalEncoder, StandardScaler"
   ]
  },
  {
   "cell_type": "code",
   "execution_count": 2,
   "metadata": {},
   "outputs": [],
   "source": [
    "# Настроим sklearn на работу с объектами pandas\n",
    "set_config(transform_output=\"pandas\")"
   ]
  },
  {
   "cell_type": "code",
   "execution_count": 3,
   "metadata": {},
   "outputs": [
    {
     "data": {
      "text/html": [
       "<div>\n",
       "<style scoped>\n",
       "    .dataframe tbody tr th:only-of-type {\n",
       "        vertical-align: middle;\n",
       "    }\n",
       "\n",
       "    .dataframe tbody tr th {\n",
       "        vertical-align: top;\n",
       "    }\n",
       "\n",
       "    .dataframe thead th {\n",
       "        text-align: right;\n",
       "    }\n",
       "</style>\n",
       "<table border=\"1\" class=\"dataframe\">\n",
       "  <thead>\n",
       "    <tr style=\"text-align: right;\">\n",
       "      <th></th>\n",
       "      <th>DateCrawled</th>\n",
       "      <th>Price</th>\n",
       "      <th>VehicleType</th>\n",
       "      <th>RegistrationYear</th>\n",
       "      <th>Gearbox</th>\n",
       "      <th>Power</th>\n",
       "      <th>Model</th>\n",
       "      <th>Kilometer</th>\n",
       "      <th>RegistrationMonth</th>\n",
       "      <th>FuelType</th>\n",
       "      <th>Brand</th>\n",
       "      <th>Repaired</th>\n",
       "      <th>DateCreated</th>\n",
       "      <th>NumberOfPictures</th>\n",
       "      <th>PostalCode</th>\n",
       "      <th>LastSeen</th>\n",
       "    </tr>\n",
       "  </thead>\n",
       "  <tbody>\n",
       "    <tr>\n",
       "      <th>0</th>\n",
       "      <td>2016-03-24 11:52:17</td>\n",
       "      <td>480</td>\n",
       "      <td>NaN</td>\n",
       "      <td>1993</td>\n",
       "      <td>manual</td>\n",
       "      <td>0</td>\n",
       "      <td>golf</td>\n",
       "      <td>150000</td>\n",
       "      <td>0</td>\n",
       "      <td>petrol</td>\n",
       "      <td>volkswagen</td>\n",
       "      <td>NaN</td>\n",
       "      <td>2016-03-24 00:00:00</td>\n",
       "      <td>0</td>\n",
       "      <td>70435</td>\n",
       "      <td>2016-04-07 03:16:57</td>\n",
       "    </tr>\n",
       "    <tr>\n",
       "      <th>1</th>\n",
       "      <td>2016-03-24 10:58:45</td>\n",
       "      <td>18300</td>\n",
       "      <td>coupe</td>\n",
       "      <td>2011</td>\n",
       "      <td>manual</td>\n",
       "      <td>190</td>\n",
       "      <td>NaN</td>\n",
       "      <td>125000</td>\n",
       "      <td>5</td>\n",
       "      <td>gasoline</td>\n",
       "      <td>audi</td>\n",
       "      <td>yes</td>\n",
       "      <td>2016-03-24 00:00:00</td>\n",
       "      <td>0</td>\n",
       "      <td>66954</td>\n",
       "      <td>2016-04-07 01:46:50</td>\n",
       "    </tr>\n",
       "    <tr>\n",
       "      <th>2</th>\n",
       "      <td>2016-03-14 12:52:21</td>\n",
       "      <td>9800</td>\n",
       "      <td>suv</td>\n",
       "      <td>2004</td>\n",
       "      <td>auto</td>\n",
       "      <td>163</td>\n",
       "      <td>grand</td>\n",
       "      <td>125000</td>\n",
       "      <td>8</td>\n",
       "      <td>gasoline</td>\n",
       "      <td>jeep</td>\n",
       "      <td>NaN</td>\n",
       "      <td>2016-03-14 00:00:00</td>\n",
       "      <td>0</td>\n",
       "      <td>90480</td>\n",
       "      <td>2016-04-05 12:47:46</td>\n",
       "    </tr>\n",
       "    <tr>\n",
       "      <th>3</th>\n",
       "      <td>2016-03-17 16:54:04</td>\n",
       "      <td>1500</td>\n",
       "      <td>small</td>\n",
       "      <td>2001</td>\n",
       "      <td>manual</td>\n",
       "      <td>75</td>\n",
       "      <td>golf</td>\n",
       "      <td>150000</td>\n",
       "      <td>6</td>\n",
       "      <td>petrol</td>\n",
       "      <td>volkswagen</td>\n",
       "      <td>no</td>\n",
       "      <td>2016-03-17 00:00:00</td>\n",
       "      <td>0</td>\n",
       "      <td>91074</td>\n",
       "      <td>2016-03-17 17:40:17</td>\n",
       "    </tr>\n",
       "    <tr>\n",
       "      <th>4</th>\n",
       "      <td>2016-03-31 17:25:20</td>\n",
       "      <td>3600</td>\n",
       "      <td>small</td>\n",
       "      <td>2008</td>\n",
       "      <td>manual</td>\n",
       "      <td>69</td>\n",
       "      <td>fabia</td>\n",
       "      <td>90000</td>\n",
       "      <td>7</td>\n",
       "      <td>gasoline</td>\n",
       "      <td>skoda</td>\n",
       "      <td>no</td>\n",
       "      <td>2016-03-31 00:00:00</td>\n",
       "      <td>0</td>\n",
       "      <td>60437</td>\n",
       "      <td>2016-04-06 10:17:21</td>\n",
       "    </tr>\n",
       "  </tbody>\n",
       "</table>\n",
       "</div>"
      ],
      "text/plain": [
       "           DateCrawled  Price VehicleType  RegistrationYear Gearbox  Power   \n",
       "0  2016-03-24 11:52:17    480         NaN              1993  manual      0  \\\n",
       "1  2016-03-24 10:58:45  18300       coupe              2011  manual    190   \n",
       "2  2016-03-14 12:52:21   9800         suv              2004    auto    163   \n",
       "3  2016-03-17 16:54:04   1500       small              2001  manual     75   \n",
       "4  2016-03-31 17:25:20   3600       small              2008  manual     69   \n",
       "\n",
       "   Model  Kilometer  RegistrationMonth  FuelType       Brand Repaired   \n",
       "0   golf     150000                  0    petrol  volkswagen      NaN  \\\n",
       "1    NaN     125000                  5  gasoline        audi      yes   \n",
       "2  grand     125000                  8  gasoline        jeep      NaN   \n",
       "3   golf     150000                  6    petrol  volkswagen       no   \n",
       "4  fabia      90000                  7  gasoline       skoda       no   \n",
       "\n",
       "           DateCreated  NumberOfPictures  PostalCode             LastSeen  \n",
       "0  2016-03-24 00:00:00                 0       70435  2016-04-07 03:16:57  \n",
       "1  2016-03-24 00:00:00                 0       66954  2016-04-07 01:46:50  \n",
       "2  2016-03-14 00:00:00                 0       90480  2016-04-05 12:47:46  \n",
       "3  2016-03-17 00:00:00                 0       91074  2016-03-17 17:40:17  \n",
       "4  2016-03-31 00:00:00                 0       60437  2016-04-06 10:17:21  "
      ]
     },
     "execution_count": 3,
     "metadata": {},
     "output_type": "execute_result"
    }
   ],
   "source": [
    "# Загрузим данные и посмотрим первые несколько строк\n",
    "data = pd.read_csv('autos.csv')\n",
    "data.head()"
   ]
  },
  {
   "cell_type": "code",
   "execution_count": 4,
   "metadata": {},
   "outputs": [
    {
     "name": "stdout",
     "output_type": "stream",
     "text": [
      "<class 'pandas.core.frame.DataFrame'>\n",
      "RangeIndex: 354369 entries, 0 to 354368\n",
      "Data columns (total 16 columns):\n",
      " #   Column             Non-Null Count   Dtype \n",
      "---  ------             --------------   ----- \n",
      " 0   DateCrawled        354369 non-null  object\n",
      " 1   Price              354369 non-null  int64 \n",
      " 2   VehicleType        316879 non-null  object\n",
      " 3   RegistrationYear   354369 non-null  int64 \n",
      " 4   Gearbox            334536 non-null  object\n",
      " 5   Power              354369 non-null  int64 \n",
      " 6   Model              334664 non-null  object\n",
      " 7   Kilometer          354369 non-null  int64 \n",
      " 8   RegistrationMonth  354369 non-null  int64 \n",
      " 9   FuelType           321474 non-null  object\n",
      " 10  Brand              354369 non-null  object\n",
      " 11  Repaired           283215 non-null  object\n",
      " 12  DateCreated        354369 non-null  object\n",
      " 13  NumberOfPictures   354369 non-null  int64 \n",
      " 14  PostalCode         354369 non-null  int64 \n",
      " 15  LastSeen           354369 non-null  object\n",
      "dtypes: int64(7), object(9)\n",
      "memory usage: 43.3+ MB\n"
     ]
    }
   ],
   "source": [
    "# Посмотрим основную информацию о столбцах\n",
    "data.info()"
   ]
  },
  {
   "cell_type": "markdown",
   "metadata": {},
   "source": [
    "Первый взгляд на данные позволяет поставить три задачи:\n",
    "1. Изменить формат заголовков;\n",
    "2. Преобразовать данные с датами в соответствующий тип;\n",
    "3. Избавиться от пропусков.\n"
   ]
  },
  {
   "cell_type": "code",
   "execution_count": 5,
   "metadata": {},
   "outputs": [],
   "source": [
    "# Заменяем названия столбцов\n",
    "def camel_to_snake(str, sep='_'):\n",
    "    '''Получает строку и преобразовывает Camel Case в Snake Case'''\n",
    "    snake_register = ''\n",
    "    for i in str:\n",
    "        if i.isupper():\n",
    "            snake_register = snake_register + sep + i.lower()\n",
    "        else:\n",
    "            snake_register += i\n",
    "    return snake_register.lstrip(sep)\n",
    "\n",
    "data.columns = [camel_to_snake(i) for i in data.columns]\n"
   ]
  },
  {
   "cell_type": "code",
   "execution_count": 6,
   "metadata": {},
   "outputs": [
    {
     "data": {
      "text/plain": [
       "date_crawled          datetime64[ns]\n",
       "price                          int64\n",
       "vehicle_type                  object\n",
       "registration_year              int64\n",
       "gearbox                       object\n",
       "power                          int64\n",
       "model                         object\n",
       "kilometer                      int64\n",
       "registration_month             int64\n",
       "fuel_type                     object\n",
       "brand                         object\n",
       "repaired                      object\n",
       "date_created          datetime64[ns]\n",
       "number_of_pictures             int64\n",
       "postal_code                    int64\n",
       "last_seen             datetime64[ns]\n",
       "dtype: object"
      ]
     },
     "execution_count": 6,
     "metadata": {},
     "output_type": "execute_result"
    }
   ],
   "source": [
    "# Заменяем тип столбцов с датами\n",
    "for i in ['date_crawled', 'date_created', 'last_seen']:\n",
    "    data[i] = pd.to_datetime(data[i], format='%Y-%m-%d %H:%M:%S')\n",
    "data.dtypes"
   ]
  },
  {
   "cell_type": "code",
   "execution_count": 7,
   "metadata": {},
   "outputs": [
    {
     "name": "stdout",
     "output_type": "stream",
     "text": [
      "Количество пропусков всего 181077\n",
      "Доля пропусков в столбцах\n"
     ]
    },
    {
     "data": {
      "text/plain": [
       "repaired              0.200791\n",
       "vehicle_type          0.105794\n",
       "fuel_type             0.092827\n",
       "gearbox               0.055967\n",
       "model                 0.055606\n",
       "date_crawled          0.000000\n",
       "price                 0.000000\n",
       "registration_year     0.000000\n",
       "power                 0.000000\n",
       "kilometer             0.000000\n",
       "registration_month    0.000000\n",
       "brand                 0.000000\n",
       "date_created          0.000000\n",
       "number_of_pictures    0.000000\n",
       "postal_code           0.000000\n",
       "last_seen             0.000000\n",
       "dtype: float64"
      ]
     },
     "metadata": {},
     "output_type": "display_data"
    },
    {
     "name": "stdout",
     "output_type": "stream",
     "text": [
      "Доля строк с различным количеством пропусков\n"
     ]
    },
    {
     "data": {
      "text/plain": [
       "0    69.366677\n",
       "1    18.150007\n",
       "2     7.395963\n",
       "3     2.824175\n",
       "4     1.631915\n",
       "5     0.631263\n",
       "Name: proportion, dtype: float64"
      ]
     },
     "metadata": {},
     "output_type": "display_data"
    }
   ],
   "source": [
    "def miss_report(data):\n",
    "    '''Показывает информацию о пропусках в DataFrame'''\n",
    "    print('Количество пропусков всего', data.isna().sum().sum())\n",
    "    print('Доля пропусков в столбцах')\n",
    "    display(data.isna().mean().sort_values(ascending=False))\n",
    "    print('Доля строк с различным количеством пропусков')\n",
    "    display(data.isna().sum(axis=1).value_counts(sort=True, ascending=False, normalize=True) * 100)\n",
    "miss_report(data)"
   ]
  },
  {
   "cell_type": "markdown",
   "metadata": {},
   "source": [
    "Итак, мы видим, что пропусков не так мало. Они сосредоточены в пяти столбцах. Объем пропусков до 20 %. Если смотреть по строкам, есть примерно 5 % объектов, для которых неизвестно 3 признака и более. Попробуем заполнить пропуски, а потом вернемся к этому отчету, чтобы решить, какие значения имеет смысл удалить.\n",
    "Предполагаю, что восстановить тип автомобиля будет легко, если поискать аналогичные по бренду и модели транспортные средства. Аналогично и с моделью, которая должна достоверно устанавливаться по бренду и типу. Как можно увидеть в таблице выше, строк, где нет и модели, и типа транспорта относительно мало.\n",
    "Тип топлива попробуем восстановить по принципу наиболее популярного для сочетания модели и бренда. Аналогично и для коробки передач.\n",
    "Решения относительно наличия ремонта пока нет. Вернемся к этому вопросу чуть позже.\n"
   ]
  },
  {
   "cell_type": "code",
   "execution_count": 8,
   "metadata": {},
   "outputs": [
    {
     "name": "stdout",
     "output_type": "stream",
     "text": [
      "19705\n",
      "9170\n"
     ]
    }
   ],
   "source": [
    "def fill_by_patern(data, target, features):\n",
    "    '''Функция предназначена для заполнения пропусков в данных.\n",
    "    Принимает DataFrame, целевой и опорные признаки. Ищет пропуски в целевом признаке и заполняет его \n",
    "    наиболее распространенным значением для сочетания опорных признаков.\n",
    "    Возвращает DataFrame с заполненными пропусками'''\n",
    "    table = data.pivot_table(index=features, values=target, aggfunc=statistics.mode, dropna=False)\n",
    "    a = [data[i].notnull() for i in features]\n",
    "    notnull_features = np.prod(a, axis=0)\n",
    "    for row in data.loc[(data[target].isna() * notnull_features).astype('bool')].iterrows():\n",
    "        current_index = [row[1][i] for i in features]\n",
    "        data.loc[row[0], target] = table.loc[tuple(current_index), target]\n",
    "    return data\n",
    "print(data['model'].isna().sum())\n",
    "data = fill_by_patern(data, 'model', ['brand', 'vehicle_type'])\n",
    "print(data['model'].isna().sum())"
   ]
  },
  {
   "cell_type": "code",
   "execution_count": 9,
   "metadata": {},
   "outputs": [
    {
     "name": "stdout",
     "output_type": "stream",
     "text": [
      "37490\n",
      "6833\n"
     ]
    }
   ],
   "source": [
    "print(data['vehicle_type'].isna().sum())\n",
    "data = fill_by_patern(data, 'vehicle_type', ['brand', 'model'])\n",
    "print(data['vehicle_type'].isna().sum())"
   ]
  },
  {
   "cell_type": "code",
   "execution_count": 10,
   "metadata": {},
   "outputs": [
    {
     "name": "stdout",
     "output_type": "stream",
     "text": [
      "32895\n",
      "4579\n"
     ]
    }
   ],
   "source": [
    "print(data['fuel_type'].isna().sum())\n",
    "data = fill_by_patern(data, 'fuel_type', ['brand', 'model'])\n",
    "print(data['fuel_type'].isna().sum())"
   ]
  },
  {
   "cell_type": "code",
   "execution_count": 11,
   "metadata": {},
   "outputs": [
    {
     "name": "stdout",
     "output_type": "stream",
     "text": [
      "19833\n",
      "3292\n"
     ]
    }
   ],
   "source": [
    "print(data['gearbox'].isna().sum())\n",
    "data = fill_by_patern(data, 'gearbox', ['brand', 'model'])\n",
    "print(data['gearbox'].isna().sum())"
   ]
  },
  {
   "cell_type": "code",
   "execution_count": 12,
   "metadata": {},
   "outputs": [
    {
     "name": "stdout",
     "output_type": "stream",
     "text": [
      "Количество пропусков всего 95028\n",
      "Доля пропусков в столбцах\n"
     ]
    },
    {
     "data": {
      "text/plain": [
       "repaired              0.200791\n",
       "model                 0.025877\n",
       "vehicle_type          0.019282\n",
       "fuel_type             0.012922\n",
       "gearbox               0.009290\n",
       "date_crawled          0.000000\n",
       "price                 0.000000\n",
       "registration_year     0.000000\n",
       "power                 0.000000\n",
       "kilometer             0.000000\n",
       "registration_month    0.000000\n",
       "brand                 0.000000\n",
       "date_created          0.000000\n",
       "number_of_pictures    0.000000\n",
       "postal_code           0.000000\n",
       "last_seen             0.000000\n",
       "dtype: float64"
      ]
     },
     "metadata": {},
     "output_type": "display_data"
    },
    {
     "name": "stdout",
     "output_type": "stream",
     "text": [
      "Доля строк с различным количеством пропусков\n"
     ]
    },
    {
     "data": {
      "text/plain": [
       "0    78.730363\n",
       "1    19.150659\n",
       "3     0.673027\n",
       "5     0.631263\n",
       "4     0.430342\n",
       "2     0.384345\n",
       "Name: proportion, dtype: float64"
      ]
     },
     "metadata": {},
     "output_type": "display_data"
    }
   ],
   "source": [
    "miss_report(data)"
   ]
  },
  {
   "cell_type": "markdown",
   "metadata": {},
   "source": [
    "Нам удалось заполнить примерно половину пропусков и уменьшить количество строк с большим числом отсутствующих данных. Теперь перейдем к столбцу «Repaired».\n",
    "Предположим, что вероятность прохождения ремонта повышается с увеличением пробега. Также на это может повлиять бренд. Проверим эти гипотезы и, в случае подтверждения, используем для заполнения пропусков.\n"
   ]
  },
  {
   "cell_type": "code",
   "execution_count": 13,
   "metadata": {},
   "outputs": [
    {
     "data": {
      "text/html": [
       "<div>\n",
       "<style scoped>\n",
       "    .dataframe tbody tr th:only-of-type {\n",
       "        vertical-align: middle;\n",
       "    }\n",
       "\n",
       "    .dataframe tbody tr th {\n",
       "        vertical-align: top;\n",
       "    }\n",
       "\n",
       "    .dataframe thead th {\n",
       "        text-align: right;\n",
       "    }\n",
       "</style>\n",
       "<table border=\"1\" class=\"dataframe\">\n",
       "  <thead>\n",
       "    <tr style=\"text-align: right;\">\n",
       "      <th>brand</th>\n",
       "      <th>alfa_romeo</th>\n",
       "      <th>audi</th>\n",
       "      <th>bmw</th>\n",
       "      <th>chevrolet</th>\n",
       "      <th>chrysler</th>\n",
       "      <th>citroen</th>\n",
       "      <th>dacia</th>\n",
       "      <th>daewoo</th>\n",
       "      <th>daihatsu</th>\n",
       "      <th>fiat</th>\n",
       "      <th>...</th>\n",
       "      <th>skoda</th>\n",
       "      <th>smart</th>\n",
       "      <th>sonstige_autos</th>\n",
       "      <th>subaru</th>\n",
       "      <th>suzuki</th>\n",
       "      <th>toyota</th>\n",
       "      <th>trabant</th>\n",
       "      <th>volkswagen</th>\n",
       "      <th>volvo</th>\n",
       "      <th>total</th>\n",
       "    </tr>\n",
       "    <tr>\n",
       "      <th>km10000</th>\n",
       "      <th></th>\n",
       "      <th></th>\n",
       "      <th></th>\n",
       "      <th></th>\n",
       "      <th></th>\n",
       "      <th></th>\n",
       "      <th></th>\n",
       "      <th></th>\n",
       "      <th></th>\n",
       "      <th></th>\n",
       "      <th></th>\n",
       "      <th></th>\n",
       "      <th></th>\n",
       "      <th></th>\n",
       "      <th></th>\n",
       "      <th></th>\n",
       "      <th></th>\n",
       "      <th></th>\n",
       "      <th></th>\n",
       "      <th></th>\n",
       "      <th></th>\n",
       "    </tr>\n",
       "  </thead>\n",
       "  <tbody>\n",
       "    <tr>\n",
       "      <th>0</th>\n",
       "      <td>0.388889</td>\n",
       "      <td>0.206250</td>\n",
       "      <td>0.240157</td>\n",
       "      <td>0.151515</td>\n",
       "      <td>0.529412</td>\n",
       "      <td>0.288136</td>\n",
       "      <td>0.000000</td>\n",
       "      <td>0.500000</td>\n",
       "      <td>0.333333</td>\n",
       "      <td>0.280000</td>\n",
       "      <td>...</td>\n",
       "      <td>0.062500</td>\n",
       "      <td>0.170732</td>\n",
       "      <td>0.147239</td>\n",
       "      <td>0.166667</td>\n",
       "      <td>0.243243</td>\n",
       "      <td>0.160000</td>\n",
       "      <td>0.151515</td>\n",
       "      <td>0.188312</td>\n",
       "      <td>0.333333</td>\n",
       "      <td>0.227916</td>\n",
       "    </tr>\n",
       "    <tr>\n",
       "      <th>1</th>\n",
       "      <td>0.500000</td>\n",
       "      <td>0.000000</td>\n",
       "      <td>0.047619</td>\n",
       "      <td>0.100000</td>\n",
       "      <td>0.500000</td>\n",
       "      <td>0.000000</td>\n",
       "      <td>0.222222</td>\n",
       "      <td>NaN</td>\n",
       "      <td>0.000000</td>\n",
       "      <td>0.064516</td>\n",
       "      <td>...</td>\n",
       "      <td>0.088235</td>\n",
       "      <td>0.000000</td>\n",
       "      <td>0.117647</td>\n",
       "      <td>1.000000</td>\n",
       "      <td>0.000000</td>\n",
       "      <td>0.000000</td>\n",
       "      <td>0.222222</td>\n",
       "      <td>0.072539</td>\n",
       "      <td>NaN</td>\n",
       "      <td>0.070231</td>\n",
       "    </tr>\n",
       "    <tr>\n",
       "      <th>2</th>\n",
       "      <td>0.133333</td>\n",
       "      <td>0.031579</td>\n",
       "      <td>0.156250</td>\n",
       "      <td>0.000000</td>\n",
       "      <td>0.000000</td>\n",
       "      <td>0.134615</td>\n",
       "      <td>0.000000</td>\n",
       "      <td>0.000000</td>\n",
       "      <td>0.285714</td>\n",
       "      <td>0.042424</td>\n",
       "      <td>...</td>\n",
       "      <td>0.043860</td>\n",
       "      <td>0.026087</td>\n",
       "      <td>0.087912</td>\n",
       "      <td>0.142857</td>\n",
       "      <td>0.148936</td>\n",
       "      <td>0.057692</td>\n",
       "      <td>0.095238</td>\n",
       "      <td>0.071097</td>\n",
       "      <td>0.125000</td>\n",
       "      <td>0.080611</td>\n",
       "    </tr>\n",
       "    <tr>\n",
       "      <th>3</th>\n",
       "      <td>0.000000</td>\n",
       "      <td>0.085561</td>\n",
       "      <td>0.109091</td>\n",
       "      <td>0.071429</td>\n",
       "      <td>0.000000</td>\n",
       "      <td>0.029851</td>\n",
       "      <td>0.163265</td>\n",
       "      <td>NaN</td>\n",
       "      <td>0.166667</td>\n",
       "      <td>0.033333</td>\n",
       "      <td>...</td>\n",
       "      <td>0.008621</td>\n",
       "      <td>0.012346</td>\n",
       "      <td>0.121212</td>\n",
       "      <td>0.100000</td>\n",
       "      <td>0.020000</td>\n",
       "      <td>0.084211</td>\n",
       "      <td>0.100000</td>\n",
       "      <td>0.051348</td>\n",
       "      <td>0.090909</td>\n",
       "      <td>0.059004</td>\n",
       "    </tr>\n",
       "    <tr>\n",
       "      <th>4</th>\n",
       "      <td>0.000000</td>\n",
       "      <td>0.032967</td>\n",
       "      <td>0.020979</td>\n",
       "      <td>0.065574</td>\n",
       "      <td>0.000000</td>\n",
       "      <td>0.032609</td>\n",
       "      <td>0.050000</td>\n",
       "      <td>0.000000</td>\n",
       "      <td>0.090909</td>\n",
       "      <td>0.054726</td>\n",
       "      <td>...</td>\n",
       "      <td>0.024096</td>\n",
       "      <td>0.016194</td>\n",
       "      <td>0.067797</td>\n",
       "      <td>0.000000</td>\n",
       "      <td>0.077922</td>\n",
       "      <td>0.043478</td>\n",
       "      <td>0.093750</td>\n",
       "      <td>0.035757</td>\n",
       "      <td>0.000000</td>\n",
       "      <td>0.041920</td>\n",
       "    </tr>\n",
       "    <tr>\n",
       "      <th>5</th>\n",
       "      <td>0.000000</td>\n",
       "      <td>0.059908</td>\n",
       "      <td>0.030172</td>\n",
       "      <td>0.039474</td>\n",
       "      <td>0.100000</td>\n",
       "      <td>0.083333</td>\n",
       "      <td>0.123077</td>\n",
       "      <td>0.250000</td>\n",
       "      <td>0.105263</td>\n",
       "      <td>0.078838</td>\n",
       "      <td>...</td>\n",
       "      <td>0.047337</td>\n",
       "      <td>0.019841</td>\n",
       "      <td>0.056338</td>\n",
       "      <td>0.125000</td>\n",
       "      <td>0.037037</td>\n",
       "      <td>0.063380</td>\n",
       "      <td>0.193548</td>\n",
       "      <td>0.040434</td>\n",
       "      <td>0.000000</td>\n",
       "      <td>0.051811</td>\n",
       "    </tr>\n",
       "    <tr>\n",
       "      <th>6</th>\n",
       "      <td>0.064516</td>\n",
       "      <td>0.030986</td>\n",
       "      <td>0.016173</td>\n",
       "      <td>0.116505</td>\n",
       "      <td>0.052632</td>\n",
       "      <td>0.072464</td>\n",
       "      <td>0.055556</td>\n",
       "      <td>0.000000</td>\n",
       "      <td>0.120000</td>\n",
       "      <td>0.062222</td>\n",
       "      <td>...</td>\n",
       "      <td>0.055249</td>\n",
       "      <td>0.026144</td>\n",
       "      <td>0.041667</td>\n",
       "      <td>0.100000</td>\n",
       "      <td>0.111111</td>\n",
       "      <td>0.042254</td>\n",
       "      <td>0.200000</td>\n",
       "      <td>0.047656</td>\n",
       "      <td>0.055556</td>\n",
       "      <td>0.051198</td>\n",
       "    </tr>\n",
       "    <tr>\n",
       "      <th>7</th>\n",
       "      <td>0.021277</td>\n",
       "      <td>0.031830</td>\n",
       "      <td>0.035556</td>\n",
       "      <td>0.116505</td>\n",
       "      <td>0.105263</td>\n",
       "      <td>0.038462</td>\n",
       "      <td>0.039474</td>\n",
       "      <td>0.277778</td>\n",
       "      <td>0.041667</td>\n",
       "      <td>0.063091</td>\n",
       "      <td>...</td>\n",
       "      <td>0.063830</td>\n",
       "      <td>0.018450</td>\n",
       "      <td>0.060606</td>\n",
       "      <td>0.000000</td>\n",
       "      <td>0.110000</td>\n",
       "      <td>0.065476</td>\n",
       "      <td>0.250000</td>\n",
       "      <td>0.047970</td>\n",
       "      <td>0.096774</td>\n",
       "      <td>0.056857</td>\n",
       "    </tr>\n",
       "    <tr>\n",
       "      <th>8</th>\n",
       "      <td>0.111111</td>\n",
       "      <td>0.024911</td>\n",
       "      <td>0.048193</td>\n",
       "      <td>0.072289</td>\n",
       "      <td>0.030303</td>\n",
       "      <td>0.075377</td>\n",
       "      <td>0.088889</td>\n",
       "      <td>0.037037</td>\n",
       "      <td>0.117647</td>\n",
       "      <td>0.077994</td>\n",
       "      <td>...</td>\n",
       "      <td>0.053942</td>\n",
       "      <td>0.053156</td>\n",
       "      <td>0.063291</td>\n",
       "      <td>0.107143</td>\n",
       "      <td>0.129310</td>\n",
       "      <td>0.055838</td>\n",
       "      <td>0.100000</td>\n",
       "      <td>0.053012</td>\n",
       "      <td>0.000000</td>\n",
       "      <td>0.066704</td>\n",
       "    </tr>\n",
       "    <tr>\n",
       "      <th>9</th>\n",
       "      <td>0.131148</td>\n",
       "      <td>0.043321</td>\n",
       "      <td>0.036745</td>\n",
       "      <td>0.080808</td>\n",
       "      <td>0.114286</td>\n",
       "      <td>0.060914</td>\n",
       "      <td>0.017857</td>\n",
       "      <td>0.037037</td>\n",
       "      <td>0.176471</td>\n",
       "      <td>0.138728</td>\n",
       "      <td>...</td>\n",
       "      <td>0.085821</td>\n",
       "      <td>0.055556</td>\n",
       "      <td>0.053763</td>\n",
       "      <td>0.038462</td>\n",
       "      <td>0.138889</td>\n",
       "      <td>0.080189</td>\n",
       "      <td>0.285714</td>\n",
       "      <td>0.063001</td>\n",
       "      <td>0.012658</td>\n",
       "      <td>0.075700</td>\n",
       "    </tr>\n",
       "    <tr>\n",
       "      <th>10</th>\n",
       "      <td>0.046729</td>\n",
       "      <td>0.041096</td>\n",
       "      <td>0.043344</td>\n",
       "      <td>0.108696</td>\n",
       "      <td>0.114286</td>\n",
       "      <td>0.144681</td>\n",
       "      <td>0.019608</td>\n",
       "      <td>0.280000</td>\n",
       "      <td>0.136364</td>\n",
       "      <td>0.128090</td>\n",
       "      <td>...</td>\n",
       "      <td>0.051661</td>\n",
       "      <td>0.087432</td>\n",
       "      <td>0.099379</td>\n",
       "      <td>0.172414</td>\n",
       "      <td>0.135135</td>\n",
       "      <td>0.076190</td>\n",
       "      <td>0.157895</td>\n",
       "      <td>0.078628</td>\n",
       "      <td>0.061224</td>\n",
       "      <td>0.087395</td>\n",
       "    </tr>\n",
       "    <tr>\n",
       "      <th>12</th>\n",
       "      <td>0.145455</td>\n",
       "      <td>0.059958</td>\n",
       "      <td>0.043495</td>\n",
       "      <td>0.156863</td>\n",
       "      <td>0.103774</td>\n",
       "      <td>0.089679</td>\n",
       "      <td>0.156250</td>\n",
       "      <td>0.216216</td>\n",
       "      <td>0.192308</td>\n",
       "      <td>0.155556</td>\n",
       "      <td>...</td>\n",
       "      <td>0.067187</td>\n",
       "      <td>0.097944</td>\n",
       "      <td>0.119565</td>\n",
       "      <td>0.197531</td>\n",
       "      <td>0.083582</td>\n",
       "      <td>0.073665</td>\n",
       "      <td>0.333333</td>\n",
       "      <td>0.082938</td>\n",
       "      <td>0.063694</td>\n",
       "      <td>0.094195</td>\n",
       "    </tr>\n",
       "    <tr>\n",
       "      <th>15</th>\n",
       "      <td>0.208594</td>\n",
       "      <td>0.135669</td>\n",
       "      <td>0.115191</td>\n",
       "      <td>0.134420</td>\n",
       "      <td>0.207218</td>\n",
       "      <td>0.179659</td>\n",
       "      <td>0.116564</td>\n",
       "      <td>0.290155</td>\n",
       "      <td>0.195205</td>\n",
       "      <td>0.227753</td>\n",
       "      <td>...</td>\n",
       "      <td>0.118673</td>\n",
       "      <td>0.156897</td>\n",
       "      <td>0.145959</td>\n",
       "      <td>0.235450</td>\n",
       "      <td>0.187948</td>\n",
       "      <td>0.109863</td>\n",
       "      <td>0.526316</td>\n",
       "      <td>0.136431</td>\n",
       "      <td>0.171064</td>\n",
       "      <td>0.152058</td>\n",
       "    </tr>\n",
       "    <tr>\n",
       "      <th>total</th>\n",
       "      <td>0.173890</td>\n",
       "      <td>0.116717</td>\n",
       "      <td>0.101326</td>\n",
       "      <td>0.112959</td>\n",
       "      <td>0.183868</td>\n",
       "      <td>0.137217</td>\n",
       "      <td>0.085320</td>\n",
       "      <td>0.230952</td>\n",
       "      <td>0.174267</td>\n",
       "      <td>0.168269</td>\n",
       "      <td>...</td>\n",
       "      <td>0.087320</td>\n",
       "      <td>0.082479</td>\n",
       "      <td>0.115066</td>\n",
       "      <td>0.197694</td>\n",
       "      <td>0.134656</td>\n",
       "      <td>0.089286</td>\n",
       "      <td>0.192691</td>\n",
       "      <td>0.116259</td>\n",
       "      <td>0.153137</td>\n",
       "      <td>0.127303</td>\n",
       "    </tr>\n",
       "  </tbody>\n",
       "</table>\n",
       "<p>14 rows × 41 columns</p>\n",
       "</div>"
      ],
      "text/plain": [
       "brand    alfa_romeo      audi       bmw  chevrolet  chrysler   citroen   \n",
       "km10000                                                                  \n",
       "0          0.388889  0.206250  0.240157   0.151515  0.529412  0.288136  \\\n",
       "1          0.500000  0.000000  0.047619   0.100000  0.500000  0.000000   \n",
       "2          0.133333  0.031579  0.156250   0.000000  0.000000  0.134615   \n",
       "3          0.000000  0.085561  0.109091   0.071429  0.000000  0.029851   \n",
       "4          0.000000  0.032967  0.020979   0.065574  0.000000  0.032609   \n",
       "5          0.000000  0.059908  0.030172   0.039474  0.100000  0.083333   \n",
       "6          0.064516  0.030986  0.016173   0.116505  0.052632  0.072464   \n",
       "7          0.021277  0.031830  0.035556   0.116505  0.105263  0.038462   \n",
       "8          0.111111  0.024911  0.048193   0.072289  0.030303  0.075377   \n",
       "9          0.131148  0.043321  0.036745   0.080808  0.114286  0.060914   \n",
       "10         0.046729  0.041096  0.043344   0.108696  0.114286  0.144681   \n",
       "12         0.145455  0.059958  0.043495   0.156863  0.103774  0.089679   \n",
       "15         0.208594  0.135669  0.115191   0.134420  0.207218  0.179659   \n",
       "total      0.173890  0.116717  0.101326   0.112959  0.183868  0.137217   \n",
       "\n",
       "brand       dacia    daewoo  daihatsu      fiat  ...     skoda     smart   \n",
       "km10000                                          ...                       \n",
       "0        0.000000  0.500000  0.333333  0.280000  ...  0.062500  0.170732  \\\n",
       "1        0.222222       NaN  0.000000  0.064516  ...  0.088235  0.000000   \n",
       "2        0.000000  0.000000  0.285714  0.042424  ...  0.043860  0.026087   \n",
       "3        0.163265       NaN  0.166667  0.033333  ...  0.008621  0.012346   \n",
       "4        0.050000  0.000000  0.090909  0.054726  ...  0.024096  0.016194   \n",
       "5        0.123077  0.250000  0.105263  0.078838  ...  0.047337  0.019841   \n",
       "6        0.055556  0.000000  0.120000  0.062222  ...  0.055249  0.026144   \n",
       "7        0.039474  0.277778  0.041667  0.063091  ...  0.063830  0.018450   \n",
       "8        0.088889  0.037037  0.117647  0.077994  ...  0.053942  0.053156   \n",
       "9        0.017857  0.037037  0.176471  0.138728  ...  0.085821  0.055556   \n",
       "10       0.019608  0.280000  0.136364  0.128090  ...  0.051661  0.087432   \n",
       "12       0.156250  0.216216  0.192308  0.155556  ...  0.067187  0.097944   \n",
       "15       0.116564  0.290155  0.195205  0.227753  ...  0.118673  0.156897   \n",
       "total    0.085320  0.230952  0.174267  0.168269  ...  0.087320  0.082479   \n",
       "\n",
       "brand    sonstige_autos    subaru    suzuki    toyota   trabant  volkswagen   \n",
       "km10000                                                                       \n",
       "0              0.147239  0.166667  0.243243  0.160000  0.151515    0.188312  \\\n",
       "1              0.117647  1.000000  0.000000  0.000000  0.222222    0.072539   \n",
       "2              0.087912  0.142857  0.148936  0.057692  0.095238    0.071097   \n",
       "3              0.121212  0.100000  0.020000  0.084211  0.100000    0.051348   \n",
       "4              0.067797  0.000000  0.077922  0.043478  0.093750    0.035757   \n",
       "5              0.056338  0.125000  0.037037  0.063380  0.193548    0.040434   \n",
       "6              0.041667  0.100000  0.111111  0.042254  0.200000    0.047656   \n",
       "7              0.060606  0.000000  0.110000  0.065476  0.250000    0.047970   \n",
       "8              0.063291  0.107143  0.129310  0.055838  0.100000    0.053012   \n",
       "9              0.053763  0.038462  0.138889  0.080189  0.285714    0.063001   \n",
       "10             0.099379  0.172414  0.135135  0.076190  0.157895    0.078628   \n",
       "12             0.119565  0.197531  0.083582  0.073665  0.333333    0.082938   \n",
       "15             0.145959  0.235450  0.187948  0.109863  0.526316    0.136431   \n",
       "total          0.115066  0.197694  0.134656  0.089286  0.192691    0.116259   \n",
       "\n",
       "brand       volvo     total  \n",
       "km10000                      \n",
       "0        0.333333  0.227916  \n",
       "1             NaN  0.070231  \n",
       "2        0.125000  0.080611  \n",
       "3        0.090909  0.059004  \n",
       "4        0.000000  0.041920  \n",
       "5        0.000000  0.051811  \n",
       "6        0.055556  0.051198  \n",
       "7        0.096774  0.056857  \n",
       "8        0.000000  0.066704  \n",
       "9        0.012658  0.075700  \n",
       "10       0.061224  0.087395  \n",
       "12       0.063694  0.094195  \n",
       "15       0.171064  0.152058  \n",
       "total    0.153137  0.127303  \n",
       "\n",
       "[14 rows x 41 columns]"
      ]
     },
     "execution_count": 13,
     "metadata": {},
     "output_type": "execute_result"
    }
   ],
   "source": [
    "data['km10000'] = data['kilometer'] // 10000\n",
    "data['repaired'].replace('yes', 1, inplace=True)\n",
    "data['repaired'].replace('no', 0, inplace=True)\n",
    "data.pivot_table(index='km10000', columns='brand', values='repaired', margins=True, margins_name='total')"
   ]
  },
  {
   "cell_type": "markdown",
   "metadata": {},
   "source": [
    "Таблица показала, что пробег и марка машины влияют на вероятность ремонта. При этом она все равно остается низкой для подавляющего большинства сочетаний этих факторов. Поэтому все пропуски в столбце заполним нулями, то есть отсутствием ремонта."
   ]
  },
  {
   "cell_type": "code",
   "execution_count": 14,
   "metadata": {},
   "outputs": [
    {
     "name": "stdout",
     "output_type": "stream",
     "text": [
      "Количество пропусков всего 23874\n",
      "Доля пропусков в столбцах\n"
     ]
    },
    {
     "data": {
      "text/plain": [
       "model                 0.025877\n",
       "vehicle_type          0.019282\n",
       "fuel_type             0.012922\n",
       "gearbox               0.009290\n",
       "date_crawled          0.000000\n",
       "repaired              0.000000\n",
       "last_seen             0.000000\n",
       "postal_code           0.000000\n",
       "number_of_pictures    0.000000\n",
       "date_created          0.000000\n",
       "registration_month    0.000000\n",
       "brand                 0.000000\n",
       "price                 0.000000\n",
       "kilometer             0.000000\n",
       "power                 0.000000\n",
       "registration_year     0.000000\n",
       "km10000               0.000000\n",
       "dtype: float64"
      ]
     },
     "metadata": {},
     "output_type": "display_data"
    },
    {
     "name": "stdout",
     "output_type": "stream",
     "text": [
      "Доля строк с различным количеством пропусков\n"
     ]
    },
    {
     "data": {
      "text/plain": [
       "0    97.410891\n",
       "3     0.760789\n",
       "4     0.675003\n",
       "2     0.601351\n",
       "1     0.551967\n",
       "Name: proportion, dtype: float64"
      ]
     },
     "metadata": {},
     "output_type": "display_data"
    }
   ],
   "source": [
    "data['repaired'].fillna(0, inplace=True)\n",
    "miss_report(data)"
   ]
  },
  {
   "cell_type": "markdown",
   "metadata": {},
   "source": [
    "Итак, пропуски мы заполнили, опираясь на информацию самого же набора данных. Как нам кажется, вероятность верного заполнения достаточно велика. У нас осталось около 2,5 % объектов с пропусками. Некоторые из них можно было бы заполнить, однако шансы ошибиться здесь повышаются. Учитывая достаточно большой объем выборки, удалим их. Далее рассмотрим аномалии в числовых столбцах."
   ]
  },
  {
   "cell_type": "code",
   "execution_count": 15,
   "metadata": {},
   "outputs": [],
   "source": [
    "data = data.dropna()"
   ]
  },
  {
   "cell_type": "code",
   "execution_count": 16,
   "metadata": {},
   "outputs": [
    {
     "data": {
      "text/html": [
       "<div>\n",
       "<style scoped>\n",
       "    .dataframe tbody tr th:only-of-type {\n",
       "        vertical-align: middle;\n",
       "    }\n",
       "\n",
       "    .dataframe tbody tr th {\n",
       "        vertical-align: top;\n",
       "    }\n",
       "\n",
       "    .dataframe thead th {\n",
       "        text-align: right;\n",
       "    }\n",
       "</style>\n",
       "<table border=\"1\" class=\"dataframe\">\n",
       "  <thead>\n",
       "    <tr style=\"text-align: right;\">\n",
       "      <th></th>\n",
       "      <th>number_of_pictures</th>\n",
       "      <th>kilometer</th>\n",
       "      <th>power</th>\n",
       "      <th>price</th>\n",
       "    </tr>\n",
       "  </thead>\n",
       "  <tbody>\n",
       "    <tr>\n",
       "      <th>count</th>\n",
       "      <td>345194.0</td>\n",
       "      <td>345194.000000</td>\n",
       "      <td>345194.000000</td>\n",
       "      <td>345194.000000</td>\n",
       "    </tr>\n",
       "    <tr>\n",
       "      <th>mean</th>\n",
       "      <td>0.0</td>\n",
       "      <td>128677.656622</td>\n",
       "      <td>111.063938</td>\n",
       "      <td>4448.752357</td>\n",
       "    </tr>\n",
       "    <tr>\n",
       "      <th>std</th>\n",
       "      <td>0.0</td>\n",
       "      <td>37230.076215</td>\n",
       "      <td>189.599845</td>\n",
       "      <td>4512.821683</td>\n",
       "    </tr>\n",
       "    <tr>\n",
       "      <th>min</th>\n",
       "      <td>0.0</td>\n",
       "      <td>5000.000000</td>\n",
       "      <td>0.000000</td>\n",
       "      <td>0.000000</td>\n",
       "    </tr>\n",
       "    <tr>\n",
       "      <th>25%</th>\n",
       "      <td>0.0</td>\n",
       "      <td>125000.000000</td>\n",
       "      <td>69.000000</td>\n",
       "      <td>1100.000000</td>\n",
       "    </tr>\n",
       "    <tr>\n",
       "      <th>50%</th>\n",
       "      <td>0.0</td>\n",
       "      <td>150000.000000</td>\n",
       "      <td>105.000000</td>\n",
       "      <td>2789.000000</td>\n",
       "    </tr>\n",
       "    <tr>\n",
       "      <th>75%</th>\n",
       "      <td>0.0</td>\n",
       "      <td>150000.000000</td>\n",
       "      <td>143.000000</td>\n",
       "      <td>6490.000000</td>\n",
       "    </tr>\n",
       "    <tr>\n",
       "      <th>max</th>\n",
       "      <td>0.0</td>\n",
       "      <td>150000.000000</td>\n",
       "      <td>20000.000000</td>\n",
       "      <td>20000.000000</td>\n",
       "    </tr>\n",
       "  </tbody>\n",
       "</table>\n",
       "</div>"
      ],
      "text/plain": [
       "       number_of_pictures      kilometer          power          price\n",
       "count            345194.0  345194.000000  345194.000000  345194.000000\n",
       "mean                  0.0  128677.656622     111.063938    4448.752357\n",
       "std                   0.0   37230.076215     189.599845    4512.821683\n",
       "min                   0.0    5000.000000       0.000000       0.000000\n",
       "25%                   0.0  125000.000000      69.000000    1100.000000\n",
       "50%                   0.0  150000.000000     105.000000    2789.000000\n",
       "75%                   0.0  150000.000000     143.000000    6490.000000\n",
       "max                   0.0  150000.000000   20000.000000   20000.000000"
      ]
     },
     "execution_count": 16,
     "metadata": {},
     "output_type": "execute_result"
    }
   ],
   "source": [
    "# Посмотрим основные характеристики числовых столбцов\n",
    "data[['number_of_pictures', 'kilometer', 'power', 'price']].describe()"
   ]
  },
  {
   "cell_type": "markdown",
   "metadata": {},
   "source": [
    "Выше показаны не все столбцы с числовыми данными. Те которые по своему содержанию близки к категориальным, оставлены на будущее.\n",
    "Мы видим, что столбец «number_of_pictures» состоит исключительно из нулей. Его удалим.\n",
    "Интересная картина наблюдается в столбце «kilometer». Здесь есть популярное максимальное значение. Очень похоже, что при сборе данных нельзя было ввести число более 150 000. Позднее посмотрим, сколько таких объектов и решим, как с этим работать.\n",
    "«Power» явно имеет аномалии, так как значения 0 и 20000 невозможны.\n",
    "В «price»есть нулевое значение, которое, скорее всего, невозможно. Это целевой показатель, но его тоже придется очистить от сомнительных значений.\n"
   ]
  },
  {
   "cell_type": "code",
   "execution_count": 17,
   "metadata": {},
   "outputs": [],
   "source": [
    "# Удаляем столбец с нулями\n",
    "data = data.drop('number_of_pictures', axis=1)"
   ]
  },
  {
   "cell_type": "code",
   "execution_count": 18,
   "metadata": {},
   "outputs": [
    {
     "data": {
      "image/png": "[encoded data removed]",
      "text/plain": [
       "<Figure size 640x480 with 1 Axes>"
      ]
     },
     "metadata": {},
     "output_type": "display_data"
    }
   ],
   "source": [
    "# Оценим, как распределяются наблюдения по километражу\n",
    "data['km10000'].value_counts(normalize=True).sort_index().plot.bar(title='Пробег автомобилей', xlabel='Пробег в 10000 км', ylabel='Доля объявлений', rot=90, grid=True);"
   ]
  },
  {
   "cell_type": "markdown",
   "metadata": {},
   "source": [
    "Гипотеза подтвердилась. 67 % наблюдений равны максимальному значению. При подготовке модели можно заменить этот столбец на качественный показатель больше или меньше 150 000. Впрочем, как лучше, проверим позднее."
   ]
  },
  {
   "cell_type": "code",
   "execution_count": 19,
   "metadata": {},
   "outputs": [],
   "source": [
    "data['more_150000_km'] = 1\n",
    "data.loc[data['km10000'] < 15, 'more_150000_km'] = 0"
   ]
  },
  {
   "cell_type": "code",
   "execution_count": 20,
   "metadata": {},
   "outputs": [
    {
     "data": {
      "image/png": "[encoded data removed]",
      "text/plain": [
       "<Figure size 640x480 with 1 Axes>"
      ]
     },
     "metadata": {},
     "output_type": "display_data"
    }
   ],
   "source": [
    "data['power'].value_counts(bins=25, normalize=True, sort=False).plot.bar(title='Распределение автомобилей по мощности', xlabel='Мощность', ylabel='Доля объявлений', xticks=[data['power'].min() + ((data['power'].max() - data['power'].min()) / 50) * i for i in range(1, 50, 2)], grid=True);"
   ]
  },
  {
   "cell_type": "markdown",
   "metadata": {},
   "source": [
    "Все значения больше 1000 выглядят сомнительно. Диапазон до 800 необходимо рассмотреть пристальнее."
   ]
  },
  {
   "cell_type": "code",
   "execution_count": 21,
   "metadata": {},
   "outputs": [
    {
     "data": {
      "image/png": "[encoded data removed]",
      "text/plain": [
       "<Figure size 640x480 with 1 Axes>"
      ]
     },
     "metadata": {},
     "output_type": "display_data"
    }
   ],
   "source": [
    "data.loc[data['power'] <= 800, 'power'].value_counts(bins=50, normalize=True, sort=False).plot.bar(title='Распределение автомобилей по мощности', xlabel='Мощность', ylabel='Доля объявлений', xticks=[data['power'].min() + ((800 - data['power'].min()) / 100) * i for i in range(1, 100, 2)], grid=True);"
   ]
  },
  {
   "cell_type": "code",
   "execution_count": 22,
   "metadata": {},
   "outputs": [
    {
     "data": {
      "text/plain": [
       "36043"
      ]
     },
     "execution_count": 22,
     "metadata": {},
     "output_type": "execute_result"
    }
   ],
   "source": [
    "data.loc[data['power'] == 0, 'power'].count()"
   ]
  },
  {
   "cell_type": "markdown",
   "metadata": {},
   "source": [
    "Мы обнаружили, что в районе нуля у нас аномально много значений. Можно предположить, что это получается тогда, когда пользователи не заполнили значение должным образом. Заменим нули и близкие к нулю значения на nan, а затем обработаем их как пропуски. Аналогично поступим и со значениями больше 1000."
   ]
  },
  {
   "cell_type": "code",
   "execution_count": 23,
   "metadata": {},
   "outputs": [
    {
     "name": "stdout",
     "output_type": "stream",
     "text": [
      "36488\n",
      "471\n",
      "6\n",
      "471\n"
     ]
    }
   ],
   "source": [
    "data.loc[data['power'] <= 16, 'power'] = np.nan\n",
    "data.loc[data['power'] > 1000, 'power'] = np.nan\n",
    "print(data['power'].isna().sum())\n",
    "print(len(data['power'].unique()))\n",
    "data = fill_by_patern(data, 'power', ['brand', 'model'])\n",
    "print(data['power'].isna().sum())\n",
    "print(len(data['power'].unique()))"
   ]
  },
  {
   "cell_type": "code",
   "execution_count": 24,
   "metadata": {},
   "outputs": [],
   "source": [
    "data = data.dropna()"
   ]
  },
  {
   "cell_type": "code",
   "execution_count": 25,
   "metadata": {},
   "outputs": [
    {
     "data": {
      "image/png": "[encoded data removed]",
      "text/plain": [
       "<Figure size 640x480 with 1 Axes>"
      ]
     },
     "metadata": {},
     "output_type": "display_data"
    }
   ],
   "source": [
    "data.loc[data['power'] <= 800, 'power'].value_counts(bins=50, normalize=True, sort=False).plot.bar(title='Распределение автомобилей по мощности', xlabel='Мощность', ylabel='Доля объявлений', xticks=[data['power'].min() + ((800 - data['power'].min()) / 100) * i for i in range(1, 100, 2)], grid=True);"
   ]
  },
  {
   "cell_type": "markdown",
   "metadata": {},
   "source": [
    "Получилось. Похоже, не заполняли данными в основном те, у кого мощность была низкой. Стеснялись?"
   ]
  },
  {
   "cell_type": "code",
   "execution_count": 26,
   "metadata": {},
   "outputs": [
    {
     "data": {
      "image/png": "[encoded data removed]",
      "text/plain": [
       "<Figure size 640x480 with 1 Axes>"
      ]
     },
     "metadata": {},
     "output_type": "display_data"
    }
   ],
   "source": [
    "data['price'].value_counts(bins=25, normalize=True, sort=False).cumsum().plot.bar(title='Стоимость', xlabel='Цена', ylabel='Доля объявлений', xticks=[data['price'].min() + ((data['price'].max() - data['price'].min()) / 50) * i for i in range(1, 50, 2)], grid=True, color='r')\n",
    "data['price'].value_counts(bins=25, normalize=True, sort=False).plot.bar(color='g');"
   ]
  },
  {
   "cell_type": "markdown",
   "metadata": {},
   "source": [
    "Столбец с  ценой, как и в предыдущем случае, необходимо рассмотреть на меньшем диапазоне"
   ]
  },
  {
   "cell_type": "code",
   "execution_count": 27,
   "metadata": {},
   "outputs": [
    {
     "data": {
      "image/png": "[encoded data removed]",
      "text/plain": [
       "<Figure size 640x480 with 1 Axes>"
      ]
     },
     "metadata": {},
     "output_type": "display_data"
    }
   ],
   "source": [
    "data.loc[data['price'] <= 8000, 'price'].value_counts(bins=50, normalize=True, sort=False).plot.bar(title='Стоимость', xlabel='Цена', ylabel='Доля объявлений', xticks=[data['price'].min() + ((8000 - data['price'].min()) / 100) * i for i in range(1, 100, 2)], grid=True);"
   ]
  },
  {
   "cell_type": "code",
   "execution_count": 28,
   "metadata": {},
   "outputs": [
    {
     "data": {
      "text/plain": [
       "price\n",
       "0      9390\n",
       "500    5469\n",
       "300    2599\n",
       "350    2417\n",
       "400    2319\n",
       "250    2096\n",
       "450    1960\n",
       "200    1901\n",
       "150    1536\n",
       "1      1020\n",
       "Name: count, dtype: int64"
      ]
     },
     "execution_count": 28,
     "metadata": {},
     "output_type": "execute_result"
    }
   ],
   "source": [
    "data.loc[data['price'] <= 500, 'price'].value_counts().head(10)"
   ]
  },
  {
   "cell_type": "markdown",
   "metadata": {},
   "source": [
    "Мы можем видеть достаточно большое число наблюдений, у которых стоимость равна или близка нулю. Это требовало бы пояснения экспертов. Вдруг люди действительно пытаются избавиться от автомобилей, например, чтобы не платить налоги. Или это такой автохлам, что люди выставляют объявления, чтобы просто у них забрали то, что они не могут довести до свалки. Проверить эти и любые другие гипотезы мы не можем. Взглянем на наиболее дешевые предложения с точки зрения года регистрации автомобилей."
   ]
  },
  {
   "cell_type": "code",
   "execution_count": 29,
   "metadata": {},
   "outputs": [
    {
     "data": {
      "text/plain": [
       "registration_year\n",
       "2000    1150\n",
       "1999     812\n",
       "1998     779\n",
       "1997     726\n",
       "1995     635\n",
       "2016     586\n",
       "2001     527\n",
       "2005     521\n",
       "1996     506\n",
       "2017     459\n",
       "Name: count, dtype: int64"
      ]
     },
     "execution_count": 29,
     "metadata": {},
     "output_type": "execute_result"
    }
   ],
   "source": [
    "data.loc[data['price'] <= 5, 'registration_year'].value_counts().head(10)"
   ]
  },
  {
   "cell_type": "markdown",
   "metadata": {},
   "source": [
    "Мы видим, что в основном, автомобили с наиболее низкой стоимостью действительно очень старые. Но не все. Так как в остаются сомнения в достоверности подобных наблюдений, придется их удалить. К счастью, их не так много."
   ]
  },
  {
   "cell_type": "code",
   "execution_count": 30,
   "metadata": {},
   "outputs": [],
   "source": [
    "data = data.drop(data[data['price'] < 10].index)"
   ]
  },
  {
   "cell_type": "markdown",
   "metadata": {},
   "source": [
    "У нас осталось еще несколько столбцов, которые мы ранее не рассматривали. Первые из них – год и месяц регистрации. Посмотрим, насколько правдоподобные данные там встречаются и объединим их."
   ]
  },
  {
   "cell_type": "code",
   "execution_count": 31,
   "metadata": {},
   "outputs": [
    {
     "data": {
      "text/plain": [
       "count    334729.000000\n",
       "mean       2003.804735\n",
       "std          64.333321\n",
       "min        1000.000000\n",
       "0.1%       1963.000000\n",
       "25%        1999.000000\n",
       "50%        2003.000000\n",
       "75%        2008.000000\n",
       "99.9%      2018.000000\n",
       "max        9999.000000\n",
       "Name: registration_year, dtype: float64"
      ]
     },
     "execution_count": 31,
     "metadata": {},
     "output_type": "execute_result"
    }
   ],
   "source": [
    "data['registration_year'].describe(percentiles=[0.001, 0.25, 0.5, 0.75, 0.999])"
   ]
  },
  {
   "cell_type": "markdown",
   "metadata": {},
   "source": [
    "Мы можем видеть, что у нас есть небольшой объем странных, явно неверных значений. Чтобы избавиться от них, удалим все наблюдения с годом регистрации меньше 1960 и больше 2022. Таких явно будет немного."
   ]
  },
  {
   "cell_type": "code",
   "execution_count": 32,
   "metadata": {},
   "outputs": [],
   "source": [
    "data = data.drop(data[data['registration_year'] < 1960].index)\n",
    "data = data.drop(data[data['registration_year'] > 2022].index)"
   ]
  },
  {
   "cell_type": "code",
   "execution_count": 33,
   "metadata": {},
   "outputs": [
    {
     "data": {
      "text/plain": [
       "registration_month\n",
       "0     29479\n",
       "1     22077\n",
       "2     20461\n",
       "3     33278\n",
       "4     28194\n",
       "5     28002\n",
       "6     30220\n",
       "7     26015\n",
       "8     21726\n",
       "9     22992\n",
       "10    25238\n",
       "11    23427\n",
       "12    23366\n",
       "Name: count, dtype: int64"
      ]
     },
     "execution_count": 33,
     "metadata": {},
     "output_type": "execute_result"
    }
   ],
   "source": [
    "data['registration_month'].value_counts().sort_index()"
   ]
  },
  {
   "cell_type": "markdown",
   "metadata": {},
   "source": [
    "Что же, есть нулевые значения. Скорее всего, пользователь просто не заполнил. Для того показателя, который мы будем использовать, это не так важно, поэтому исправлять не будем. Объединим год и месяц регистрации в единый показатель."
   ]
  },
  {
   "cell_type": "code",
   "execution_count": 34,
   "metadata": {},
   "outputs": [],
   "source": [
    "data['registration_year'] = (data['registration_year'] * 12 + data['registration_month']) / 12\n",
    "data = data.drop('registration_month', axis=1)"
   ]
  },
  {
   "cell_type": "markdown",
   "metadata": {},
   "source": [
    "У нас целых три столбца с датами. Логично предположить, что дата скачивания анкеты особой роли в ценообразовании не играет. Позднее мы ее удалим. Но сначала проверим, есть ли у нас строки, в которых анкета скачена раньше, чем размещена."
   ]
  },
  {
   "cell_type": "code",
   "execution_count": 35,
   "metadata": {},
   "outputs": [
    {
     "data": {
      "text/plain": [
       "0"
      ]
     },
     "execution_count": 35,
     "metadata": {},
     "output_type": "execute_result"
    }
   ],
   "source": [
    "(data['date_crawled'] < data['date_created']).sum()"
   ]
  },
  {
   "cell_type": "markdown",
   "metadata": {},
   "source": [
    "К счастью, таких не нашлось. Теперь посмотрим, есть ли анкеты, созданные раньше, чем была зарегистрирована машина. Это было бы тоже странно."
   ]
  },
  {
   "cell_type": "code",
   "execution_count": 36,
   "metadata": {},
   "outputs": [
    {
     "data": {
      "text/plain": [
       "12197"
      ]
     },
     "execution_count": 36,
     "metadata": {},
     "output_type": "execute_result"
    }
   ],
   "source": [
    "(data['date_created'].dt.year < data['registration_year'].astype('int')).sum()"
   ]
  },
  {
   "cell_type": "markdown",
   "metadata": {},
   "source": [
    "А вот такие есть. Удалим их как скомпрометированные, а заодно и больше ненужную дату скачивания."
   ]
  },
  {
   "cell_type": "code",
   "execution_count": 37,
   "metadata": {},
   "outputs": [],
   "source": [
    "data = data.drop(data.loc[(data['date_created'].dt.year < data['registration_year'].astype('int'))].index)\n",
    "data = data.drop('date_crawled', axis=1)"
   ]
  },
  {
   "cell_type": "markdown",
   "metadata": {},
   "source": [
    "Теперь сконструируем новый признак. Предположим, что дата последней активности пользователя примерно совпадает с датой продажи автомобиля. В таком случае разность между этим показателем и датой создания объявления показывает время экспозиции. Оно может оказаться важным признаком."
   ]
  },
  {
   "cell_type": "code",
   "execution_count": 38,
   "metadata": {},
   "outputs": [],
   "source": [
    "data['day_exp'] = (data['last_seen'] - data['date_created']).dt.days\n",
    "data['last_seen'] = data['last_seen'].dt.year"
   ]
  },
  {
   "cell_type": "markdown",
   "metadata": {},
   "source": [
    "После создания нового признака, дата создания объявления видится излишней. По этой причине удалим ее. Далее перейдем к рассмотрению почтовых индексов."
   ]
  },
  {
   "cell_type": "code",
   "execution_count": 39,
   "metadata": {},
   "outputs": [],
   "source": [
    "data = data.drop('date_created', axis=1)"
   ]
  },
  {
   "cell_type": "code",
   "execution_count": 40,
   "metadata": {},
   "outputs": [
    {
     "data": {
      "text/plain": [
       "8125"
      ]
     },
     "execution_count": 40,
     "metadata": {},
     "output_type": "execute_result"
    }
   ],
   "source": [
    "len(data['postal_code'].unique())"
   ]
  },
  {
   "cell_type": "code",
   "execution_count": 41,
   "metadata": {},
   "outputs": [
    {
     "data": {
      "text/plain": [
       "postal_code\n",
       "5    306417\n",
       "4     15861\n",
       "Name: count, dtype: int64"
      ]
     },
     "execution_count": 41,
     "metadata": {},
     "output_type": "execute_result"
    }
   ],
   "source": [
    "data['postal_code'].apply(lambda x: len(str(x))).value_counts()"
   ]
  },
  {
   "cell_type": "markdown",
   "metadata": {},
   "source": [
    "Мы видим, что почтовый индекс представляет собой четырех или пятизначное число. По нему можно определить место продажи автомобиля, а в разных регионах стоимость подержанных машин может отличаться. При этом признак этот является категориальным. \n",
    "Создавать больше восьми тысяч категорий кажется неправильным. Индексы в большинстве стран имеют четкую структуру. Например, в США по первым двум цифрам можно определить штат. В России первые три цифры практически однозначно указывают на регион почтового отделения. Попробуем выделить первые две цифры в качестве номера региона. Также у нас есть некоторое количество индексов с четырьмя числами. Пока, на всякий случай, эту информацию также сохраним в таблице, вдруг это признак, а не ошибка.\n"
   ]
  },
  {
   "cell_type": "code",
   "execution_count": 42,
   "metadata": {},
   "outputs": [],
   "source": [
    "data['postal_code_start'] = data['postal_code'].apply(lambda x: str(x)[:2])"
   ]
  },
  {
   "cell_type": "code",
   "execution_count": 43,
   "metadata": {},
   "outputs": [],
   "source": [
    "data['postal_code_len'] = data['postal_code'].apply(lambda x: len(str(x)) - 4)"
   ]
  },
  {
   "cell_type": "markdown",
   "metadata": {},
   "source": [
    "Наконец мы получили DataFrame с очищенными данными. Остается только проверить его на наличие явных дубликатов."
   ]
  },
  {
   "cell_type": "code",
   "execution_count": 44,
   "metadata": {},
   "outputs": [
    {
     "name": "stdout",
     "output_type": "stream",
     "text": [
      "322278\n"
     ]
    },
    {
     "data": {
      "text/plain": [
       "311569"
      ]
     },
     "execution_count": 44,
     "metadata": {},
     "output_type": "execute_result"
    }
   ],
   "source": [
    "print(data.shape[0])\n",
    "data.drop_duplicates(inplace=True)\n",
    "data.shape[0]"
   ]
  },
  {
   "cell_type": "markdown",
   "metadata": {},
   "source": [
    "### Выводы\n",
    "На этом мы завершаем первый раздел. Здесь было проведено множество действий по очистке данных от пропусков и аномалий. Нам удалось:\n",
    "- загрузить данные;\n",
    "- заполнить существенную часть текстовых столбцов, опираясь на наблюдения в таблице, не имеющие пропусков;\n",
    "- обработать аномалии в числовых столбцах;\n",
    "- удалить сомнительные по качеству наблюдения и бесполезные столбцы;\n",
    "У нас теперь есть DataFrame без пропусков. Наверняка некоторые из признаков будут излишними. Уже сейчас понятно, что некоторые из них дублируют друг друга. С тем, какие оставлять, мы разберемся позднее. Также, будет необходимо разделить выборки и применить кодирование.\n"
   ]
  },
  {
   "cell_type": "markdown",
   "metadata": {},
   "source": [
    "## Обучение моделей"
   ]
  },
  {
   "cell_type": "markdown",
   "metadata": {},
   "source": [
    "Этот раздел будет посвящен обучению и выбору моделей. Но прежде чем этим заняться, необходимо произвести ряд подготовительных операций. Начнем с того, что выделим целевой показатель из DataFrame, а также отложим тестовую выборку."
   ]
  },
  {
   "cell_type": "code",
   "execution_count": 45,
   "metadata": {},
   "outputs": [],
   "source": [
    "target = data['price']\n",
    "features = data.drop('price', axis=1)\n",
    "features_train, features_test, target_train, target_test = train_test_split(features, target, test_size=0.2, random_state=23)"
   ]
  },
  {
   "cell_type": "markdown",
   "metadata": {},
   "source": [
    "Прежде чем создавать модели, попробуем разобраться, какие из множества признаков полезны, а какие – нет. Также попробуем сравнить эффективность логичного в нашей ситуации onehotencoder и ordinalencoder, применение которого, скорее всего, потребует гораздо меньше ресурсов.\n",
    "Начнем с создания двух вариантов трансформаторов. Первый будет применять к категориальным признакам OHE, а второй – порядковое кодирование.\n"
   ]
  },
  {
   "cell_type": "code",
   "execution_count": 46,
   "metadata": {},
   "outputs": [],
   "source": [
    "# Создадим преобразователь с OHE\n",
    "ct_ohe = ColumnTransformer(\n",
    "    [('ohe', OneHotEncoder(drop='first', sparse=False, handle_unknown='ignore'), \n",
    "      make_column_selector(dtype_include=object))],\n",
    "    remainder='passthrough')\n",
    "\n",
    "# Создадим преобразователь с ordinal encoder\n",
    "ct_ord = ColumnTransformer(\n",
    "    [('ord', OrdinalEncoder(handle_unknown='use_encoded_value', unknown_value=-1), \n",
    "      make_column_selector(dtype_include=object))],\n",
    "    remainder='passthrough')"
   ]
  },
  {
   "cell_type": "markdown",
   "metadata": {},
   "source": [
    "Попробуем Обучить небольшой случайный лес, чтобы оценить, на какие признаки он опирается. Сначала используем ряд признаков, подходящих для OHE. Также, для экономии ресурсов, будем использовать только часть выборки. А чтобы было, с чем сравнить значимость, добавим столбец с явно бесполезными данными."
   ]
  },
  {
   "cell_type": "code",
   "execution_count": 47,
   "metadata": {},
   "outputs": [],
   "source": [
    "features_train['random'] = np.random.random(features_train.shape[0])"
   ]
  },
  {
   "cell_type": "code",
   "execution_count": 48,
   "metadata": {},
   "outputs": [
    {
     "name": "stderr",
     "output_type": "stream",
     "text": [
      "C:\\Users\\User\\anaconda3\\envs\\practicum\\lib\\site-packages\\sklearn\\preprocessing\\_encoders.py:868: FutureWarning: `sparse` was renamed to `sparse_output` in version 1.2 and will be removed in 1.4. `sparse_output` is ignored unless you leave `sparse` to its default value.\n",
      "  warnings.warn(\n"
     ]
    },
    {
     "name": "stdout",
     "output_type": "stream",
     "text": [
      "CPU times: total: 17.5 s\n",
      "Wall time: 17.8 s\n"
     ]
    },
    {
     "data": {
      "text/html": [
       "<style>#sk-container-id-1 {color: black;background-color: white;}#sk-container-id-1 pre{padding: 0;}#sk-container-id-1 div.sk-toggleable {background-color: white;}#sk-container-id-1 label.sk-toggleable__label {cursor: pointer;display: block;width: 100%;margin-bottom: 0;padding: 0.3em;box-sizing: border-box;text-align: center;}#sk-container-id-1 label.sk-toggleable__label-arrow:before {content: \"▸\";float: left;margin-right: 0.25em;color: #696969;}#sk-container-id-1 label.sk-toggleable__label-arrow:hover:before {color: black;}#sk-container-id-1 div.sk-estimator:hover label.sk-toggleable__label-arrow:before {color: black;}#sk-container-id-1 div.sk-toggleable__content {max-height: 0;max-width: 0;overflow: hidden;text-align: left;background-color: #f0f8ff;}#sk-container-id-1 div.sk-toggleable__content pre {margin: 0.2em;color: black;border-radius: 0.25em;background-color: #f0f8ff;}#sk-container-id-1 input.sk-toggleable__control:checked~div.sk-toggleable__content {max-height: 200px;max-width: 100%;overflow: auto;}#sk-container-id-1 input.sk-toggleable__control:checked~label.sk-toggleable__label-arrow:before {content: \"▾\";}#sk-container-id-1 div.sk-estimator input.sk-toggleable__control:checked~label.sk-toggleable__label {background-color: #d4ebff;}#sk-container-id-1 div.sk-label input.sk-toggleable__control:checked~label.sk-toggleable__label {background-color: #d4ebff;}#sk-container-id-1 input.sk-hidden--visually {border: 0;clip: rect(1px 1px 1px 1px);clip: rect(1px, 1px, 1px, 1px);height: 1px;margin: -1px;overflow: hidden;padding: 0;position: absolute;width: 1px;}#sk-container-id-1 div.sk-estimator {font-family: monospace;background-color: #f0f8ff;border: 1px dotted black;border-radius: 0.25em;box-sizing: border-box;margin-bottom: 0.5em;}#sk-container-id-1 div.sk-estimator:hover {background-color: #d4ebff;}#sk-container-id-1 div.sk-parallel-item::after {content: \"\";width: 100%;border-bottom: 1px solid gray;flex-grow: 1;}#sk-container-id-1 div.sk-label:hover label.sk-toggleable__label {background-color: #d4ebff;}#sk-container-id-1 div.sk-serial::before {content: \"\";position: absolute;border-left: 1px solid gray;box-sizing: border-box;top: 0;bottom: 0;left: 50%;z-index: 0;}#sk-container-id-1 div.sk-serial {display: flex;flex-direction: column;align-items: center;background-color: white;padding-right: 0.2em;padding-left: 0.2em;position: relative;}#sk-container-id-1 div.sk-item {position: relative;z-index: 1;}#sk-container-id-1 div.sk-parallel {display: flex;align-items: stretch;justify-content: center;background-color: white;position: relative;}#sk-container-id-1 div.sk-item::before, #sk-container-id-1 div.sk-parallel-item::before {content: \"\";position: absolute;border-left: 1px solid gray;box-sizing: border-box;top: 0;bottom: 0;left: 50%;z-index: -1;}#sk-container-id-1 div.sk-parallel-item {display: flex;flex-direction: column;z-index: 1;position: relative;background-color: white;}#sk-container-id-1 div.sk-parallel-item:first-child::after {align-self: flex-end;width: 50%;}#sk-container-id-1 div.sk-parallel-item:last-child::after {align-self: flex-start;width: 50%;}#sk-container-id-1 div.sk-parallel-item:only-child::after {width: 0;}#sk-container-id-1 div.sk-dashed-wrapped {border: 1px dashed gray;margin: 0 0.4em 0.5em 0.4em;box-sizing: border-box;padding-bottom: 0.4em;background-color: white;}#sk-container-id-1 div.sk-label label {font-family: monospace;font-weight: bold;display: inline-block;line-height: 1.2em;}#sk-container-id-1 div.sk-label-container {text-align: center;}#sk-container-id-1 div.sk-container {/* jupyter's `normalize.less` sets `[hidden] { display: none; }` but bootstrap.min.css set `[hidden] { display: none !important; }` so we also need the `!important` here to be able to override the default hidden behavior on the sphinx rendered scikit-learn.org. See: https://github.com/scikit-learn/scikit-learn/issues/21755 */display: inline-block !important;position: relative;}#sk-container-id-1 div.sk-text-repr-fallback {display: none;}</style><div id=\"sk-container-id-1\" class=\"sk-top-container\"><div class=\"sk-text-repr-fallback\"><pre>Pipeline(steps=[(&#x27;ct&#x27;,\n",
       "                 ColumnTransformer(remainder=&#x27;passthrough&#x27;,\n",
       "                                   transformers=[(&#x27;ohe&#x27;,\n",
       "                                                  OneHotEncoder(drop=&#x27;first&#x27;,\n",
       "                                                                handle_unknown=&#x27;ignore&#x27;,\n",
       "                                                                sparse=False),\n",
       "                                                  &lt;sklearn.compose._column_transformer.make_column_selector object at 0x00000200C74DB1F0&gt;)])),\n",
       "                (&#x27;rf&#x27;, RandomForestRegressor(n_estimators=10))])</pre><b>In a Jupyter environment, please rerun this cell to show the HTML representation or trust the notebook. <br />On GitHub, the HTML representation is unable to render, please try loading this page with nbviewer.org.</b></div><div class=\"sk-container\" hidden><div class=\"sk-item sk-dashed-wrapped\"><div class=\"sk-label-container\"><div class=\"sk-label sk-toggleable\"><input class=\"sk-toggleable__control sk-hidden--visually\" id=\"sk-estimator-id-1\" type=\"checkbox\" ><label for=\"sk-estimator-id-1\" class=\"sk-toggleable__label sk-toggleable__label-arrow\">Pipeline</label><div class=\"sk-toggleable__content\"><pre>Pipeline(steps=[(&#x27;ct&#x27;,\n",
       "                 ColumnTransformer(remainder=&#x27;passthrough&#x27;,\n",
       "                                   transformers=[(&#x27;ohe&#x27;,\n",
       "                                                  OneHotEncoder(drop=&#x27;first&#x27;,\n",
       "                                                                handle_unknown=&#x27;ignore&#x27;,\n",
       "                                                                sparse=False),\n",
       "                                                  &lt;sklearn.compose._column_transformer.make_column_selector object at 0x00000200C74DB1F0&gt;)])),\n",
       "                (&#x27;rf&#x27;, RandomForestRegressor(n_estimators=10))])</pre></div></div></div><div class=\"sk-serial\"><div class=\"sk-item sk-dashed-wrapped\"><div class=\"sk-label-container\"><div class=\"sk-label sk-toggleable\"><input class=\"sk-toggleable__control sk-hidden--visually\" id=\"sk-estimator-id-2\" type=\"checkbox\" ><label for=\"sk-estimator-id-2\" class=\"sk-toggleable__label sk-toggleable__label-arrow\">ct: ColumnTransformer</label><div class=\"sk-toggleable__content\"><pre>ColumnTransformer(remainder=&#x27;passthrough&#x27;,\n",
       "                  transformers=[(&#x27;ohe&#x27;,\n",
       "                                 OneHotEncoder(drop=&#x27;first&#x27;,\n",
       "                                               handle_unknown=&#x27;ignore&#x27;,\n",
       "                                               sparse=False),\n",
       "                                 &lt;sklearn.compose._column_transformer.make_column_selector object at 0x00000200C74DB1F0&gt;)])</pre></div></div></div><div class=\"sk-parallel\"><div class=\"sk-parallel-item\"><div class=\"sk-item\"><div class=\"sk-label-container\"><div class=\"sk-label sk-toggleable\"><input class=\"sk-toggleable__control sk-hidden--visually\" id=\"sk-estimator-id-3\" type=\"checkbox\" ><label for=\"sk-estimator-id-3\" class=\"sk-toggleable__label sk-toggleable__label-arrow\">ohe</label><div class=\"sk-toggleable__content\"><pre>&lt;sklearn.compose._column_transformer.make_column_selector object at 0x00000200C74DB1F0&gt;</pre></div></div></div><div class=\"sk-serial\"><div class=\"sk-item\"><div class=\"sk-estimator sk-toggleable\"><input class=\"sk-toggleable__control sk-hidden--visually\" id=\"sk-estimator-id-4\" type=\"checkbox\" ><label for=\"sk-estimator-id-4\" class=\"sk-toggleable__label sk-toggleable__label-arrow\">OneHotEncoder</label><div class=\"sk-toggleable__content\"><pre>OneHotEncoder(drop=&#x27;first&#x27;, handle_unknown=&#x27;ignore&#x27;, sparse=False)</pre></div></div></div></div></div></div><div class=\"sk-parallel-item\"><div class=\"sk-item\"><div class=\"sk-label-container\"><div class=\"sk-label sk-toggleable\"><input class=\"sk-toggleable__control sk-hidden--visually\" id=\"sk-estimator-id-5\" type=\"checkbox\" ><label for=\"sk-estimator-id-5\" class=\"sk-toggleable__label sk-toggleable__label-arrow\">remainder</label><div class=\"sk-toggleable__content\"><pre>[&#x27;registration_year&#x27;, &#x27;power&#x27;, &#x27;kilometer&#x27;, &#x27;repaired&#x27;, &#x27;last_seen&#x27;, &#x27;km10000&#x27;, &#x27;more_150000_km&#x27;, &#x27;day_exp&#x27;, &#x27;postal_code_len&#x27;, &#x27;random&#x27;]</pre></div></div></div><div class=\"sk-serial\"><div class=\"sk-item\"><div class=\"sk-estimator sk-toggleable\"><input class=\"sk-toggleable__control sk-hidden--visually\" id=\"sk-estimator-id-6\" type=\"checkbox\" ><label for=\"sk-estimator-id-6\" class=\"sk-toggleable__label sk-toggleable__label-arrow\">passthrough</label><div class=\"sk-toggleable__content\"><pre>passthrough</pre></div></div></div></div></div></div></div></div><div class=\"sk-item\"><div class=\"sk-estimator sk-toggleable\"><input class=\"sk-toggleable__control sk-hidden--visually\" id=\"sk-estimator-id-7\" type=\"checkbox\" ><label for=\"sk-estimator-id-7\" class=\"sk-toggleable__label sk-toggleable__label-arrow\">RandomForestRegressor</label><div class=\"sk-toggleable__content\"><pre>RandomForestRegressor(n_estimators=10)</pre></div></div></div></div></div></div></div>"
      ],
      "text/plain": [
       "Pipeline(steps=[('ct',\n",
       "                 ColumnTransformer(remainder='passthrough',\n",
       "                                   transformers=[('ohe',\n",
       "                                                  OneHotEncoder(drop='first',\n",
       "                                                                handle_unknown='ignore',\n",
       "                                                                sparse=False),\n",
       "                                                  <sklearn.compose._column_transformer.make_column_selector object at 0x00000200C74DB1F0>)])),\n",
       "                ('rf', RandomForestRegressor(n_estimators=10))])"
      ]
     },
     "execution_count": 48,
     "metadata": {},
     "output_type": "execute_result"
    }
   ],
   "source": [
    "%%time\n",
    "columns_for_ohe = ['vehicle_type', 'registration_year', 'gearbox', 'power', 'model', 'kilometer', 'fuel_type', 'brand', 'repaired', 'last_seen', 'km10000', 'more_150000_km', 'day_exp', 'postal_code_start', 'postal_code_len', 'random']\n",
    "model = Pipeline(\n",
    "    [('ct', ct_ohe),\n",
    "     ('rf', RandomForestRegressor(n_estimators=10))]\n",
    "    )\n",
    "model.fit(features_train[columns_for_ohe].iloc[:25000, :], target_train.iloc[:25000]);"
   ]
  },
  {
   "cell_type": "markdown",
   "metadata": {},
   "source": [
    "Лес обучили, посмотрим, какие признаки стали для него важными.  Некоторые категориальные признаки разбились на десятки отдельных. Для них будем считать сумму значимостей. Также, какова точность модели на 10 000 образцов."
   ]
  },
  {
   "cell_type": "code",
   "execution_count": 49,
   "metadata": {},
   "outputs": [
    {
     "name": "stdout",
     "output_type": "stream",
     "text": [
      "Значимость признаков\n"
     ]
    },
    {
     "data": {
      "text/plain": [
       "remainder__registration_year    0.531878\n",
       "remainder__power                0.238151\n",
       "model                           0.042651\n",
       "postal_code_start               0.038055\n",
       "remainder__km10000              0.028248\n",
       "brand                           0.027532\n",
       "vehicle_type                    0.021099\n",
       "remainder__day_exp              0.020038\n",
       "remainder__random               0.017233\n",
       "remainder__kilometer            0.016261\n",
       "remainder__repaired             0.007738\n",
       "fuel_type                       0.004267\n",
       "gearbox                         0.002994\n",
       "remainder__more_150000_km       0.002943\n",
       "remainder__postal_code_len      0.000911\n",
       "remainder__last_seen            0.000000\n",
       "dtype: float64"
      ]
     },
     "metadata": {},
     "output_type": "display_data"
    },
    {
     "name": "stderr",
     "output_type": "stream",
     "text": [
      "C:\\Users\\User\\anaconda3\\envs\\practicum\\lib\\site-packages\\sklearn\\preprocessing\\_encoders.py:202: UserWarning: Found unknown categories in columns [2] during transform. These unknown categories will be encoded as all zeros\n",
      "  warnings.warn(\n"
     ]
    },
    {
     "name": "stdout",
     "output_type": "stream",
     "text": [
      "Точность модели 1937.710809654574\n",
      "CPU times: total: 406 ms\n",
      "Wall time: 446 ms\n"
     ]
    }
   ],
   "source": [
    "%%time\n",
    "def unite_category(series, category):\n",
    "    '''суммирует значения похожих индексов'''\n",
    "    for cat in category:\n",
    "        ind = [i for i in series.index if cat in i]\n",
    "        series = pd.concat([series, pd.Series({cat: sum(series.loc[ind])})])\n",
    "        series = series.drop(ind)\n",
    "    return series\n",
    "\n",
    "category_features = ['vehicle_type', 'gearbox', 'model', 'fuel_type', 'brand', 'postal_code_start']\n",
    "importance = pd.Series(model['rf'].feature_importances_,\n",
    "    index=model['rf'].feature_names_in_)\n",
    "importance = unite_category(importance, category_features)\n",
    "print('Значимость признаков')\n",
    "display(importance.sort_values(ascending=False))\n",
    "prediction = model.predict(features_train[columns_for_ohe].iloc[25001:35000, :])\n",
    "print('Точность модели',\n",
    "    mean_squared_error(prediction, target_train.iloc[25001:35000], squared=False))\n"
   ]
  },
  {
   "cell_type": "markdown",
   "metadata": {},
   "source": [
    "Что же, попробуем удалить все признаки, значимость которых ниже случайных чисел. Также попробуем убрать бренд и тип транспортного средства. Скорее всего, эти данные уже входят в модель. Откорректируем список применяемых столбцов и запустим процесс заново."
   ]
  },
  {
   "cell_type": "code",
   "execution_count": 50,
   "metadata": {},
   "outputs": [
    {
     "name": "stderr",
     "output_type": "stream",
     "text": [
      "C:\\Users\\User\\anaconda3\\envs\\practicum\\lib\\site-packages\\sklearn\\preprocessing\\_encoders.py:868: FutureWarning: `sparse` was renamed to `sparse_output` in version 1.2 and will be removed in 1.4. `sparse_output` is ignored unless you leave `sparse` to its default value.\n",
      "  warnings.warn(\n"
     ]
    },
    {
     "name": "stdout",
     "output_type": "stream",
     "text": [
      "Значимость признаков\n"
     ]
    },
    {
     "data": {
      "text/plain": [
       "remainder__registration_year    0.533492\n",
       "remainder__power                0.244432\n",
       "model                           0.074907\n",
       "postal_code_start               0.051781\n",
       "remainder__kilometer            0.049091\n",
       "remainder__random               0.023199\n",
       "remainder__day_exp              0.023097\n",
       "dtype: float64"
      ]
     },
     "metadata": {},
     "output_type": "display_data"
    },
    {
     "name": "stdout",
     "output_type": "stream",
     "text": [
      "Точность модели 2079.9556907844367\n",
      "CPU times: total: 14.6 s\n",
      "Wall time: 14.7 s\n"
     ]
    },
    {
     "name": "stderr",
     "output_type": "stream",
     "text": [
      "C:\\Users\\User\\anaconda3\\envs\\practicum\\lib\\site-packages\\sklearn\\preprocessing\\_encoders.py:202: UserWarning: Found unknown categories in columns [0] during transform. These unknown categories will be encoded as all zeros\n",
      "  warnings.warn(\n"
     ]
    }
   ],
   "source": [
    "%%time\n",
    "columns_for_ohe = ['registration_year', 'power', 'model', 'kilometer', 'day_exp', 'postal_code_start', 'random']\n",
    "model = Pipeline(\n",
    "    [('ct', ct_ohe),\n",
    "     ('rf', RandomForestRegressor(n_estimators=10))]\n",
    "    )\n",
    "model.fit(features_train[columns_for_ohe].iloc[:25000, :], target_train.iloc[:25000])\n",
    "\n",
    "category_features = ['model', 'postal_code_start']\n",
    "importance = pd.Series(model['rf'].feature_importances_,\n",
    "    index=model['rf'].feature_names_in_)\n",
    "importance = unite_category(importance, category_features)\n",
    "print('Значимость признаков')\n",
    "display(importance.sort_values(ascending=False))\n",
    "prediction = model.predict(features_train[columns_for_ohe].iloc[25001:35000, :])\n",
    "print('Точность модели',\n",
    "    mean_squared_error(prediction, target_train.iloc[25001:35000], squared=False))"
   ]
  },
  {
   "cell_type": "markdown",
   "metadata": {},
   "source": [
    "Что же, мы несколько потеряли в точности и почти не ускорили модель. Соответственно, смысла удалять признаки нет. Пока на этом остановимся. Посмотрим, как себя проявит порядковая кодировка. Здесь, так как мы практически не ограничены в количестве категорий в каждом признаке, будем использовать почтовые индексы в их первоначальном виде."
   ]
  },
  {
   "cell_type": "code",
   "execution_count": 51,
   "metadata": {},
   "outputs": [
    {
     "name": "stdout",
     "output_type": "stream",
     "text": [
      "Значимость признаков\n"
     ]
    },
    {
     "data": {
      "text/plain": [
       "remainder__registration_year    0.540471\n",
       "remainder__power                0.243802\n",
       "ord__brand                      0.026935\n",
       "ord__model                      0.025495\n",
       "remainder__postal_code          0.024513\n",
       "remainder__day_exp              0.024476\n",
       "remainder__kilometer            0.023882\n",
       "remainder__random               0.023367\n",
       "ord__vehicle_type               0.021828\n",
       "remainder__km10000              0.020731\n",
       "remainder__repaired             0.008735\n",
       "ord__fuel_type                  0.006194\n",
       "ord__gearbox                    0.004655\n",
       "remainder__more_150000_km       0.004447\n",
       "remainder__postal_code_len      0.000470\n",
       "remainder__last_seen            0.000000\n",
       "dtype: float64"
      ]
     },
     "metadata": {},
     "output_type": "display_data"
    },
    {
     "name": "stdout",
     "output_type": "stream",
     "text": [
      "Точность модели 1979.4520064016617\n",
      "CPU times: total: 3.8 s\n",
      "Wall time: 3.84 s\n"
     ]
    }
   ],
   "source": [
    "%%time\n",
    "columns_for_ord = ['vehicle_type', 'registration_year', 'gearbox', 'power', 'model', 'kilometer', 'fuel_type', 'brand', 'repaired', 'postal_code', 'last_seen', 'km10000', 'more_150000_km', 'day_exp', 'postal_code_len', 'random']\n",
    "model = Pipeline(\n",
    "    [('ct', ct_ord),\n",
    "     ('rf', RandomForestRegressor(n_estimators=10))]\n",
    "    )\n",
    "model.fit(features_train[columns_for_ord].iloc[:25000, :], target_train.iloc[:25000])\n",
    "\n",
    "importance = pd.Series(model['rf'].feature_importances_,\n",
    "    index=model['rf'].feature_names_in_)\n",
    "print('Значимость признаков')\n",
    "display(importance.sort_values(ascending=False))\n",
    "prediction = model.predict(features_train[columns_for_ord].iloc[25001:35000, :])\n",
    "print('Точность модели',\n",
    "    mean_squared_error(prediction, target_train.iloc[25001:35000], squared=False))"
   ]
  },
  {
   "cell_type": "markdown",
   "metadata": {},
   "source": [
    "В результате точность модели упала совсем немного, но скорость работы возрасла в три раза. Похоже, ordinal encoder лучше подходит для наших данных, по крайней мере в сочетании со случайным лесом.\n",
    "Заметим, что из всех признаков, связанных с километражом бесполезным оказался признак more_150000_km. Два других близки по смыслу, поэтому оставим только первоначальный. Также last_seen не пригодился моделям. Их, а также случайный признак удалим.\n"
   ]
  },
  {
   "cell_type": "code",
   "execution_count": 52,
   "metadata": {},
   "outputs": [],
   "source": [
    "# Удаляем лишние столбцы\n",
    "for df in [features_train, features_test]:\n",
    "    df = df.drop(['more_150000_km', 'last_seen', 'km10000'], axis=1)\n",
    "features_train = features_train.drop('random', axis=1)"
   ]
  },
  {
   "cell_type": "markdown",
   "metadata": {},
   "source": [
    "Прежде чем перейти к построению моделей создадим функцию качества, которую будем применять при кросс-валидации"
   ]
  },
  {
   "cell_type": "code",
   "execution_count": 53,
   "metadata": {},
   "outputs": [],
   "source": [
    "# Создадим функцию для оценки rmse\n",
    "rmse = make_scorer(lambda x, y: mean_squared_error(x, y, squared=False), greater_is_better=False)"
   ]
  },
  {
   "cell_type": "markdown",
   "metadata": {},
   "source": [
    "Далее на тренировочной выборке оценим точность базовой модели, которая все время выдает одинаковый ответ.Далее на тренировочной выборке оценим точность базовой модели, которая все время выдает одинаковый ответ."
   ]
  },
  {
   "cell_type": "code",
   "execution_count": 54,
   "metadata": {},
   "outputs": [
    {
     "name": "stdout",
     "output_type": "stream",
     "text": [
      "Точность базовой модели 4536.343190167019\n"
     ]
    }
   ],
   "source": [
    "model = DummyRegressor()\n",
    "model.fit(features_train, target_train)\n",
    "print('Точность базовой модели', mean_squared_error(target_train, model.predict(features_train), squared=False))"
   ]
  },
  {
   "cell_type": "markdown",
   "metadata": {},
   "source": [
    "Теперь можем переходить к построению моделей и подбору гиперпараметров моделей. А начнем мы со случайного леса в сочетании с one hot encoder."
   ]
  },
  {
   "cell_type": "code",
   "execution_count": 55,
   "metadata": {},
   "outputs": [
    {
     "name": "stderr",
     "output_type": "stream",
     "text": [
      "C:\\Users\\User\\anaconda3\\envs\\practicum\\lib\\site-packages\\sklearn\\preprocessing\\_encoders.py:868: FutureWarning: `sparse` was renamed to `sparse_output` in version 1.2 and will be removed in 1.4. `sparse_output` is ignored unless you leave `sparse` to its default value.\n",
      "  warnings.warn(\n"
     ]
    },
    {
     "name": "stdout",
     "output_type": "stream",
     "text": [
      "Результаты подбора гиперпараметров для RandomForestRegression\n",
      "CPU times: total: 1h 6min 29s\n",
      "Wall time: 2h 54min 56s\n"
     ]
    },
    {
     "data": {
      "text/html": [
       "<div>\n",
       "<style scoped>\n",
       "    .dataframe tbody tr th:only-of-type {\n",
       "        vertical-align: middle;\n",
       "    }\n",
       "\n",
       "    .dataframe tbody tr th {\n",
       "        vertical-align: top;\n",
       "    }\n",
       "\n",
       "    .dataframe thead th {\n",
       "        text-align: right;\n",
       "    }\n",
       "</style>\n",
       "<table border=\"1\" class=\"dataframe\">\n",
       "  <thead>\n",
       "    <tr style=\"text-align: right;\">\n",
       "      <th></th>\n",
       "      <th>mean_fit_time</th>\n",
       "      <th>std_fit_time</th>\n",
       "      <th>mean_score_time</th>\n",
       "      <th>std_score_time</th>\n",
       "      <th>param_rf__max_depth</th>\n",
       "      <th>param_rf__n_estimators</th>\n",
       "      <th>params</th>\n",
       "      <th>split0_test_score</th>\n",
       "      <th>split1_test_score</th>\n",
       "      <th>split2_test_score</th>\n",
       "      <th>mean_test_score</th>\n",
       "      <th>std_test_score</th>\n",
       "      <th>rank_test_score</th>\n",
       "    </tr>\n",
       "  </thead>\n",
       "  <tbody>\n",
       "    <tr>\n",
       "      <th>5</th>\n",
       "      <td>4468.355163</td>\n",
       "      <td>225.194094</td>\n",
       "      <td>47.161152</td>\n",
       "      <td>3.850409</td>\n",
       "      <td>50</td>\n",
       "      <td>250</td>\n",
       "      <td>{'rf__max_depth': 50, 'rf__n_estimators': 250}</td>\n",
       "      <td>-1574.590358</td>\n",
       "      <td>-1591.542387</td>\n",
       "      <td>-1600.817674</td>\n",
       "      <td>-1588.983473</td>\n",
       "      <td>10.859069</td>\n",
       "      <td>1</td>\n",
       "    </tr>\n",
       "    <tr>\n",
       "      <th>8</th>\n",
       "      <td>3440.200302</td>\n",
       "      <td>117.179246</td>\n",
       "      <td>38.200099</td>\n",
       "      <td>5.712093</td>\n",
       "      <td>250</td>\n",
       "      <td>250</td>\n",
       "      <td>{'rf__max_depth': 250, 'rf__n_estimators': 250}</td>\n",
       "      <td>-1575.418811</td>\n",
       "      <td>-1590.809760</td>\n",
       "      <td>-1600.806257</td>\n",
       "      <td>-1589.011609</td>\n",
       "      <td>10.442082</td>\n",
       "      <td>2</td>\n",
       "    </tr>\n",
       "    <tr>\n",
       "      <th>7</th>\n",
       "      <td>1107.580073</td>\n",
       "      <td>60.407234</td>\n",
       "      <td>17.043205</td>\n",
       "      <td>4.615123</td>\n",
       "      <td>250</td>\n",
       "      <td>50</td>\n",
       "      <td>{'rf__max_depth': 250, 'rf__n_estimators': 50}</td>\n",
       "      <td>-1588.010478</td>\n",
       "      <td>-1602.332552</td>\n",
       "      <td>-1611.202075</td>\n",
       "      <td>-1600.515035</td>\n",
       "      <td>9.554757</td>\n",
       "      <td>3</td>\n",
       "    </tr>\n",
       "    <tr>\n",
       "      <th>4</th>\n",
       "      <td>1156.460939</td>\n",
       "      <td>1.810706</td>\n",
       "      <td>12.131521</td>\n",
       "      <td>0.365466</td>\n",
       "      <td>50</td>\n",
       "      <td>50</td>\n",
       "      <td>{'rf__max_depth': 50, 'rf__n_estimators': 50}</td>\n",
       "      <td>-1586.199053</td>\n",
       "      <td>-1600.904886</td>\n",
       "      <td>-1616.818296</td>\n",
       "      <td>-1601.307412</td>\n",
       "      <td>12.503494</td>\n",
       "      <td>4</td>\n",
       "    </tr>\n",
       "    <tr>\n",
       "      <th>3</th>\n",
       "      <td>248.289868</td>\n",
       "      <td>2.351554</td>\n",
       "      <td>4.446158</td>\n",
       "      <td>0.036593</td>\n",
       "      <td>50</td>\n",
       "      <td>10</td>\n",
       "      <td>{'rf__max_depth': 50, 'rf__n_estimators': 10}</td>\n",
       "      <td>-1637.056060</td>\n",
       "      <td>-1658.634763</td>\n",
       "      <td>-1668.129442</td>\n",
       "      <td>-1654.606755</td>\n",
       "      <td>13.001472</td>\n",
       "      <td>5</td>\n",
       "    </tr>\n",
       "    <tr>\n",
       "      <th>6</th>\n",
       "      <td>235.874877</td>\n",
       "      <td>0.736646</td>\n",
       "      <td>3.937883</td>\n",
       "      <td>0.242202</td>\n",
       "      <td>250</td>\n",
       "      <td>10</td>\n",
       "      <td>{'rf__max_depth': 250, 'rf__n_estimators': 10}</td>\n",
       "      <td>-1640.216959</td>\n",
       "      <td>-1658.810863</td>\n",
       "      <td>-1666.131009</td>\n",
       "      <td>-1655.052943</td>\n",
       "      <td>10.907978</td>\n",
       "      <td>6</td>\n",
       "    </tr>\n",
       "    <tr>\n",
       "      <th>2</th>\n",
       "      <td>2675.719197</td>\n",
       "      <td>18.299366</td>\n",
       "      <td>9.674708</td>\n",
       "      <td>0.868821</td>\n",
       "      <td>10</td>\n",
       "      <td>250</td>\n",
       "      <td>{'rf__max_depth': 10, 'rf__n_estimators': 250}</td>\n",
       "      <td>-1867.885403</td>\n",
       "      <td>-1881.353591</td>\n",
       "      <td>-1892.954989</td>\n",
       "      <td>-1880.731328</td>\n",
       "      <td>10.244070</td>\n",
       "      <td>7</td>\n",
       "    </tr>\n",
       "    <tr>\n",
       "      <th>1</th>\n",
       "      <td>589.550126</td>\n",
       "      <td>3.852094</td>\n",
       "      <td>4.561825</td>\n",
       "      <td>0.713507</td>\n",
       "      <td>10</td>\n",
       "      <td>50</td>\n",
       "      <td>{'rf__max_depth': 10, 'rf__n_estimators': 50}</td>\n",
       "      <td>-1871.990714</td>\n",
       "      <td>-1881.592119</td>\n",
       "      <td>-1891.487004</td>\n",
       "      <td>-1881.689946</td>\n",
       "      <td>7.959628</td>\n",
       "      <td>8</td>\n",
       "    </tr>\n",
       "    <tr>\n",
       "      <th>0</th>\n",
       "      <td>151.714994</td>\n",
       "      <td>0.984733</td>\n",
       "      <td>2.646694</td>\n",
       "      <td>0.067090</td>\n",
       "      <td>10</td>\n",
       "      <td>10</td>\n",
       "      <td>{'rf__max_depth': 10, 'rf__n_estimators': 10}</td>\n",
       "      <td>-1884.609033</td>\n",
       "      <td>-1896.224230</td>\n",
       "      <td>-1908.263770</td>\n",
       "      <td>-1896.365677</td>\n",
       "      <td>9.657524</td>\n",
       "      <td>9</td>\n",
       "    </tr>\n",
       "  </tbody>\n",
       "</table>\n",
       "</div>"
      ],
      "text/plain": [
       "   mean_fit_time  std_fit_time  mean_score_time  std_score_time   \n",
       "5    4468.355163    225.194094        47.161152        3.850409  \\\n",
       "8    3440.200302    117.179246        38.200099        5.712093   \n",
       "7    1107.580073     60.407234        17.043205        4.615123   \n",
       "4    1156.460939      1.810706        12.131521        0.365466   \n",
       "3     248.289868      2.351554         4.446158        0.036593   \n",
       "6     235.874877      0.736646         3.937883        0.242202   \n",
       "2    2675.719197     18.299366         9.674708        0.868821   \n",
       "1     589.550126      3.852094         4.561825        0.713507   \n",
       "0     151.714994      0.984733         2.646694        0.067090   \n",
       "\n",
       "  param_rf__max_depth param_rf__n_estimators   \n",
       "5                  50                    250  \\\n",
       "8                 250                    250   \n",
       "7                 250                     50   \n",
       "4                  50                     50   \n",
       "3                  50                     10   \n",
       "6                 250                     10   \n",
       "2                  10                    250   \n",
       "1                  10                     50   \n",
       "0                  10                     10   \n",
       "\n",
       "                                            params  split0_test_score   \n",
       "5   {'rf__max_depth': 50, 'rf__n_estimators': 250}       -1574.590358  \\\n",
       "8  {'rf__max_depth': 250, 'rf__n_estimators': 250}       -1575.418811   \n",
       "7   {'rf__max_depth': 250, 'rf__n_estimators': 50}       -1588.010478   \n",
       "4    {'rf__max_depth': 50, 'rf__n_estimators': 50}       -1586.199053   \n",
       "3    {'rf__max_depth': 50, 'rf__n_estimators': 10}       -1637.056060   \n",
       "6   {'rf__max_depth': 250, 'rf__n_estimators': 10}       -1640.216959   \n",
       "2   {'rf__max_depth': 10, 'rf__n_estimators': 250}       -1867.885403   \n",
       "1    {'rf__max_depth': 10, 'rf__n_estimators': 50}       -1871.990714   \n",
       "0    {'rf__max_depth': 10, 'rf__n_estimators': 10}       -1884.609033   \n",
       "\n",
       "   split1_test_score  split2_test_score  mean_test_score  std_test_score   \n",
       "5       -1591.542387       -1600.817674     -1588.983473       10.859069  \\\n",
       "8       -1590.809760       -1600.806257     -1589.011609       10.442082   \n",
       "7       -1602.332552       -1611.202075     -1600.515035        9.554757   \n",
       "4       -1600.904886       -1616.818296     -1601.307412       12.503494   \n",
       "3       -1658.634763       -1668.129442     -1654.606755       13.001472   \n",
       "6       -1658.810863       -1666.131009     -1655.052943       10.907978   \n",
       "2       -1881.353591       -1892.954989     -1880.731328       10.244070   \n",
       "1       -1881.592119       -1891.487004     -1881.689946        7.959628   \n",
       "0       -1896.224230       -1908.263770     -1896.365677        9.657524   \n",
       "\n",
       "   rank_test_score  \n",
       "5                1  \n",
       "8                2  \n",
       "7                3  \n",
       "4                4  \n",
       "3                5  \n",
       "6                6  \n",
       "2                7  \n",
       "1                8  \n",
       "0                9  "
      ]
     },
     "execution_count": 55,
     "metadata": {},
     "output_type": "execute_result"
    }
   ],
   "source": [
    "%%time\n",
    "columns_for_ohe = ['vehicle_type', 'registration_year', 'gearbox', 'power', 'model', 'kilometer', 'fuel_type', 'brand', 'repaired', 'day_exp', 'postal_code_start', 'postal_code_len']\n",
    "model = Pipeline(\n",
    "    [('ct', ct_ohe),\n",
    "    ('rf', RandomForestRegressor())]\n",
    "    )\n",
    "param = {'rf__max_depth': [10, 50, 250],\n",
    "    'rf__n_estimators': [10, 50, 250]}\n",
    "\n",
    "grid_forest = GridSearchCV(model, param_grid=param, cv=3, n_jobs=-1, scoring=rmse)\n",
    "grid_forest.fit(features_train[columns_for_ohe], target_train)\n",
    "print('Результаты подбора гиперпараметров для RandomForestRegression')\n",
    "pd.DataFrame(grid_forest.cv_results_).sort_values(by='rank_test_score')"
   ]
  },
  {
   "cell_type": "markdown",
   "metadata": {},
   "source": [
    "Лучшей оказалась модель с глубиной 50 и 250 оценщиками. Ее и будем сравнивать с другими моделями. Ее основной недостаток – низкая скорость обучения и предсказания. Фактически, если случайный лес окажется наиболее точной моделью, может понадобиться перейти к более простой, более быстрой, но менее точной модели. Как мы можем видеть, снижение числа оценщиков в 5 раз повышает скорость примерно в 4 раза при небольшой падении качества.\n",
    "Далее попробуем случайный лес с ordinal encoder.\n"
   ]
  },
  {
   "cell_type": "code",
   "execution_count": 56,
   "metadata": {},
   "outputs": [
    {
     "name": "stdout",
     "output_type": "stream",
     "text": [
      "Результаты подбора гиперпараметров для RandomForestRegression с ordinal encoder\n",
      "CPU times: total: 9min 29s\n",
      "Wall time: 24min 33s\n"
     ]
    },
    {
     "data": {
      "text/html": [
       "<div>\n",
       "<style scoped>\n",
       "    .dataframe tbody tr th:only-of-type {\n",
       "        vertical-align: middle;\n",
       "    }\n",
       "\n",
       "    .dataframe tbody tr th {\n",
       "        vertical-align: top;\n",
       "    }\n",
       "\n",
       "    .dataframe thead th {\n",
       "        text-align: right;\n",
       "    }\n",
       "</style>\n",
       "<table border=\"1\" class=\"dataframe\">\n",
       "  <thead>\n",
       "    <tr style=\"text-align: right;\">\n",
       "      <th></th>\n",
       "      <th>mean_fit_time</th>\n",
       "      <th>std_fit_time</th>\n",
       "      <th>mean_score_time</th>\n",
       "      <th>std_score_time</th>\n",
       "      <th>param_rf__max_depth</th>\n",
       "      <th>param_rf__n_estimators</th>\n",
       "      <th>params</th>\n",
       "      <th>split0_test_score</th>\n",
       "      <th>split1_test_score</th>\n",
       "      <th>split2_test_score</th>\n",
       "      <th>mean_test_score</th>\n",
       "      <th>std_test_score</th>\n",
       "      <th>rank_test_score</th>\n",
       "    </tr>\n",
       "  </thead>\n",
       "  <tbody>\n",
       "    <tr>\n",
       "      <th>8</th>\n",
       "      <td>523.018461</td>\n",
       "      <td>3.879847</td>\n",
       "      <td>30.374732</td>\n",
       "      <td>2.417048</td>\n",
       "      <td>250</td>\n",
       "      <td>250</td>\n",
       "      <td>{'rf__max_depth': 250, 'rf__n_estimators': 250}</td>\n",
       "      <td>-1603.826500</td>\n",
       "      <td>-1618.698235</td>\n",
       "      <td>-1612.695082</td>\n",
       "      <td>-1611.739939</td>\n",
       "      <td>6.108810</td>\n",
       "      <td>1</td>\n",
       "    </tr>\n",
       "    <tr>\n",
       "      <th>5</th>\n",
       "      <td>551.385626</td>\n",
       "      <td>19.960416</td>\n",
       "      <td>33.635393</td>\n",
       "      <td>7.217055</td>\n",
       "      <td>50</td>\n",
       "      <td>250</td>\n",
       "      <td>{'rf__max_depth': 50, 'rf__n_estimators': 250}</td>\n",
       "      <td>-1605.159218</td>\n",
       "      <td>-1617.297844</td>\n",
       "      <td>-1612.903777</td>\n",
       "      <td>-1611.786946</td>\n",
       "      <td>5.018103</td>\n",
       "      <td>2</td>\n",
       "    </tr>\n",
       "    <tr>\n",
       "      <th>7</th>\n",
       "      <td>119.769248</td>\n",
       "      <td>2.408777</td>\n",
       "      <td>4.821321</td>\n",
       "      <td>0.683359</td>\n",
       "      <td>250</td>\n",
       "      <td>50</td>\n",
       "      <td>{'rf__max_depth': 250, 'rf__n_estimators': 50}</td>\n",
       "      <td>-1619.337048</td>\n",
       "      <td>-1632.978235</td>\n",
       "      <td>-1625.575559</td>\n",
       "      <td>-1625.963614</td>\n",
       "      <td>5.575747</td>\n",
       "      <td>3</td>\n",
       "    </tr>\n",
       "    <tr>\n",
       "      <th>4</th>\n",
       "      <td>123.126152</td>\n",
       "      <td>16.545564</td>\n",
       "      <td>4.170962</td>\n",
       "      <td>0.422439</td>\n",
       "      <td>50</td>\n",
       "      <td>50</td>\n",
       "      <td>{'rf__max_depth': 50, 'rf__n_estimators': 50}</td>\n",
       "      <td>-1622.811829</td>\n",
       "      <td>-1631.602983</td>\n",
       "      <td>-1627.231795</td>\n",
       "      <td>-1627.215535</td>\n",
       "      <td>3.588992</td>\n",
       "      <td>4</td>\n",
       "    </tr>\n",
       "    <tr>\n",
       "      <th>6</th>\n",
       "      <td>27.830830</td>\n",
       "      <td>0.428513</td>\n",
       "      <td>1.124926</td>\n",
       "      <td>0.019984</td>\n",
       "      <td>250</td>\n",
       "      <td>10</td>\n",
       "      <td>{'rf__max_depth': 250, 'rf__n_estimators': 10}</td>\n",
       "      <td>-1681.412749</td>\n",
       "      <td>-1698.772954</td>\n",
       "      <td>-1698.536126</td>\n",
       "      <td>-1692.907276</td>\n",
       "      <td>8.128433</td>\n",
       "      <td>5</td>\n",
       "    </tr>\n",
       "    <tr>\n",
       "      <th>3</th>\n",
       "      <td>22.148763</td>\n",
       "      <td>1.904094</td>\n",
       "      <td>1.145196</td>\n",
       "      <td>0.016496</td>\n",
       "      <td>50</td>\n",
       "      <td>10</td>\n",
       "      <td>{'rf__max_depth': 50, 'rf__n_estimators': 10}</td>\n",
       "      <td>-1691.431908</td>\n",
       "      <td>-1704.506849</td>\n",
       "      <td>-1698.374842</td>\n",
       "      <td>-1698.104533</td>\n",
       "      <td>5.341243</td>\n",
       "      <td>6</td>\n",
       "    </tr>\n",
       "    <tr>\n",
       "      <th>2</th>\n",
       "      <td>245.877191</td>\n",
       "      <td>23.134150</td>\n",
       "      <td>4.516642</td>\n",
       "      <td>0.271222</td>\n",
       "      <td>10</td>\n",
       "      <td>250</td>\n",
       "      <td>{'rf__max_depth': 10, 'rf__n_estimators': 250}</td>\n",
       "      <td>-1861.091476</td>\n",
       "      <td>-1870.013794</td>\n",
       "      <td>-1874.149214</td>\n",
       "      <td>-1868.418162</td>\n",
       "      <td>5.448894</td>\n",
       "      <td>7</td>\n",
       "    </tr>\n",
       "    <tr>\n",
       "      <th>1</th>\n",
       "      <td>50.749513</td>\n",
       "      <td>0.600853</td>\n",
       "      <td>1.122116</td>\n",
       "      <td>0.237046</td>\n",
       "      <td>10</td>\n",
       "      <td>50</td>\n",
       "      <td>{'rf__max_depth': 10, 'rf__n_estimators': 50}</td>\n",
       "      <td>-1864.807913</td>\n",
       "      <td>-1873.376726</td>\n",
       "      <td>-1874.414710</td>\n",
       "      <td>-1870.866450</td>\n",
       "      <td>4.304939</td>\n",
       "      <td>8</td>\n",
       "    </tr>\n",
       "    <tr>\n",
       "      <th>0</th>\n",
       "      <td>10.793540</td>\n",
       "      <td>0.017622</td>\n",
       "      <td>0.338855</td>\n",
       "      <td>0.020064</td>\n",
       "      <td>10</td>\n",
       "      <td>10</td>\n",
       "      <td>{'rf__max_depth': 10, 'rf__n_estimators': 10}</td>\n",
       "      <td>-1884.675269</td>\n",
       "      <td>-1883.892888</td>\n",
       "      <td>-1896.184903</td>\n",
       "      <td>-1888.251020</td>\n",
       "      <td>5.619188</td>\n",
       "      <td>9</td>\n",
       "    </tr>\n",
       "  </tbody>\n",
       "</table>\n",
       "</div>"
      ],
      "text/plain": [
       "   mean_fit_time  std_fit_time  mean_score_time  std_score_time   \n",
       "8     523.018461      3.879847        30.374732        2.417048  \\\n",
       "5     551.385626     19.960416        33.635393        7.217055   \n",
       "7     119.769248      2.408777         4.821321        0.683359   \n",
       "4     123.126152     16.545564         4.170962        0.422439   \n",
       "6      27.830830      0.428513         1.124926        0.019984   \n",
       "3      22.148763      1.904094         1.145196        0.016496   \n",
       "2     245.877191     23.134150         4.516642        0.271222   \n",
       "1      50.749513      0.600853         1.122116        0.237046   \n",
       "0      10.793540      0.017622         0.338855        0.020064   \n",
       "\n",
       "  param_rf__max_depth param_rf__n_estimators   \n",
       "8                 250                    250  \\\n",
       "5                  50                    250   \n",
       "7                 250                     50   \n",
       "4                  50                     50   \n",
       "6                 250                     10   \n",
       "3                  50                     10   \n",
       "2                  10                    250   \n",
       "1                  10                     50   \n",
       "0                  10                     10   \n",
       "\n",
       "                                            params  split0_test_score   \n",
       "8  {'rf__max_depth': 250, 'rf__n_estimators': 250}       -1603.826500  \\\n",
       "5   {'rf__max_depth': 50, 'rf__n_estimators': 250}       -1605.159218   \n",
       "7   {'rf__max_depth': 250, 'rf__n_estimators': 50}       -1619.337048   \n",
       "4    {'rf__max_depth': 50, 'rf__n_estimators': 50}       -1622.811829   \n",
       "6   {'rf__max_depth': 250, 'rf__n_estimators': 10}       -1681.412749   \n",
       "3    {'rf__max_depth': 50, 'rf__n_estimators': 10}       -1691.431908   \n",
       "2   {'rf__max_depth': 10, 'rf__n_estimators': 250}       -1861.091476   \n",
       "1    {'rf__max_depth': 10, 'rf__n_estimators': 50}       -1864.807913   \n",
       "0    {'rf__max_depth': 10, 'rf__n_estimators': 10}       -1884.675269   \n",
       "\n",
       "   split1_test_score  split2_test_score  mean_test_score  std_test_score   \n",
       "8       -1618.698235       -1612.695082     -1611.739939        6.108810  \\\n",
       "5       -1617.297844       -1612.903777     -1611.786946        5.018103   \n",
       "7       -1632.978235       -1625.575559     -1625.963614        5.575747   \n",
       "4       -1631.602983       -1627.231795     -1627.215535        3.588992   \n",
       "6       -1698.772954       -1698.536126     -1692.907276        8.128433   \n",
       "3       -1704.506849       -1698.374842     -1698.104533        5.341243   \n",
       "2       -1870.013794       -1874.149214     -1868.418162        5.448894   \n",
       "1       -1873.376726       -1874.414710     -1870.866450        4.304939   \n",
       "0       -1883.892888       -1896.184903     -1888.251020        5.619188   \n",
       "\n",
       "   rank_test_score  \n",
       "8                1  \n",
       "5                2  \n",
       "7                3  \n",
       "4                4  \n",
       "6                5  \n",
       "3                6  \n",
       "2                7  \n",
       "1                8  \n",
       "0                9  "
      ]
     },
     "execution_count": 56,
     "metadata": {},
     "output_type": "execute_result"
    }
   ],
   "source": [
    "%%time\n",
    "columns_for_ord = ['vehicle_type', 'registration_year', 'gearbox', 'power', 'model', 'kilometer', 'fuel_type', 'brand', 'repaired', 'postal_code', 'day_exp']\n",
    "model = Pipeline(\n",
    "    [('ct', ct_ord),\n",
    "    ('rf', RandomForestRegressor())]\n",
    "    )\n",
    "param = {'rf__max_depth': [10, 50, 250],\n",
    "    'rf__n_estimators': [10, 50, 250]}\n",
    "\n",
    "grid_forest = GridSearchCV(model, param_grid=param, cv=3, n_jobs=-1, scoring=rmse)\n",
    "grid_forest.fit(features_train[columns_for_ord], target_train)\n",
    "print('Результаты подбора гиперпараметров для RandomForestRegression с ordinal encoder')\n",
    "pd.DataFrame(grid_forest.cv_results_).sort_values(by='rank_test_score')"
   ]
  },
  {
   "cell_type": "markdown",
   "metadata": {},
   "source": [
    "Логика работы ordinal encoder в данном случае непонятна, но он неплохо справляется с задачей. В целом, это альтернатива предыдущей модели. Точность немного ниже, а скорость гораздо выше. Переходим к варианту линейной регрессии. Здесь из-за большого объема применяется SGD. Но прежде обновим преобразователь данных, так как здесь полезным будет масштабирование числовых данных."
   ]
  },
  {
   "cell_type": "code",
   "execution_count": 57,
   "metadata": {},
   "outputs": [],
   "source": [
    "# обновим преобразователь столбцов, добавив масштабирование\n",
    "ct_ohe_and_scaler  = ColumnTransformer(\n",
    "    [('ohe', OneHotEncoder(drop='first', sparse=False, handle_unknown='ignore'), \n",
    "      make_column_selector(dtype_include=object)),\n",
    "    ('numbers', StandardScaler(), \n",
    "     make_column_selector(dtype_include=np.number))],\n",
    "    remainder='passthrough')"
   ]
  },
  {
   "cell_type": "markdown",
   "metadata": {},
   "source": [
    "Лучшей оказалась модель с глубиной 24 и 60 оценщиками. Ее и будем сравнивать с другими моделями. Далее у нас на очереди линейная регрессия с регуляризацией.\n",
    "(На самом деле пробовал до 160 оценщиков. В два раза дольше обучается ради выигрыша в точности в пару долларов. Оставил только один этап подбора параметров).\n",
    "\n",
    "\n"
   ]
  },
  {
   "cell_type": "code",
   "execution_count": 58,
   "metadata": {},
   "outputs": [
    {
     "name": "stderr",
     "output_type": "stream",
     "text": [
      "C:\\Users\\User\\anaconda3\\envs\\practicum\\lib\\site-packages\\sklearn\\preprocessing\\_encoders.py:868: FutureWarning: `sparse` was renamed to `sparse_output` in version 1.2 and will be removed in 1.4. `sparse_output` is ignored unless you leave `sparse` to its default value.\n",
      "  warnings.warn(\n"
     ]
    },
    {
     "name": "stdout",
     "output_type": "stream",
     "text": [
      "Результаты подбора гиперпараметров для SGDRegressor\n",
      "CPU times: total: 20.4 s\n",
      "Wall time: 1min 49s\n"
     ]
    },
    {
     "data": {
      "text/html": [
       "<div>\n",
       "<style scoped>\n",
       "    .dataframe tbody tr th:only-of-type {\n",
       "        vertical-align: middle;\n",
       "    }\n",
       "\n",
       "    .dataframe tbody tr th {\n",
       "        vertical-align: top;\n",
       "    }\n",
       "\n",
       "    .dataframe thead th {\n",
       "        text-align: right;\n",
       "    }\n",
       "</style>\n",
       "<table border=\"1\" class=\"dataframe\">\n",
       "  <thead>\n",
       "    <tr style=\"text-align: right;\">\n",
       "      <th></th>\n",
       "      <th>mean_fit_time</th>\n",
       "      <th>std_fit_time</th>\n",
       "      <th>mean_score_time</th>\n",
       "      <th>std_score_time</th>\n",
       "      <th>param_SGD__alpha</th>\n",
       "      <th>params</th>\n",
       "      <th>split0_test_score</th>\n",
       "      <th>split1_test_score</th>\n",
       "      <th>split2_test_score</th>\n",
       "      <th>mean_test_score</th>\n",
       "      <th>std_test_score</th>\n",
       "      <th>rank_test_score</th>\n",
       "    </tr>\n",
       "  </thead>\n",
       "  <tbody>\n",
       "    <tr>\n",
       "      <th>0</th>\n",
       "      <td>67.518379</td>\n",
       "      <td>2.660707</td>\n",
       "      <td>3.758517</td>\n",
       "      <td>1.455544</td>\n",
       "      <td>0</td>\n",
       "      <td>{'SGD__alpha': 0}</td>\n",
       "      <td>-2673.732053</td>\n",
       "      <td>-2668.307920</td>\n",
       "      <td>-2680.567655</td>\n",
       "      <td>-2674.202543</td>\n",
       "      <td>5.016061</td>\n",
       "      <td>1</td>\n",
       "    </tr>\n",
       "    <tr>\n",
       "      <th>1</th>\n",
       "      <td>66.455437</td>\n",
       "      <td>1.664422</td>\n",
       "      <td>2.977019</td>\n",
       "      <td>1.121304</td>\n",
       "      <td>0.1</td>\n",
       "      <td>{'SGD__alpha': 0.1}</td>\n",
       "      <td>-2876.340951</td>\n",
       "      <td>-2871.695475</td>\n",
       "      <td>-2889.527148</td>\n",
       "      <td>-2879.187858</td>\n",
       "      <td>7.552960</td>\n",
       "      <td>2</td>\n",
       "    </tr>\n",
       "    <tr>\n",
       "      <th>2</th>\n",
       "      <td>35.465027</td>\n",
       "      <td>18.847750</td>\n",
       "      <td>2.519759</td>\n",
       "      <td>1.119148</td>\n",
       "      <td>1</td>\n",
       "      <td>{'SGD__alpha': 1}</td>\n",
       "      <td>-3339.265536</td>\n",
       "      <td>-3315.884842</td>\n",
       "      <td>-3343.120903</td>\n",
       "      <td>-3332.757093</td>\n",
       "      <td>12.033858</td>\n",
       "      <td>3</td>\n",
       "    </tr>\n",
       "    <tr>\n",
       "      <th>3</th>\n",
       "      <td>13.155859</td>\n",
       "      <td>1.249641</td>\n",
       "      <td>1.745923</td>\n",
       "      <td>0.733990</td>\n",
       "      <td>2</td>\n",
       "      <td>{'SGD__alpha': 2}</td>\n",
       "      <td>-3610.984751</td>\n",
       "      <td>-3597.538722</td>\n",
       "      <td>-3604.892129</td>\n",
       "      <td>-3604.471868</td>\n",
       "      <td>5.497356</td>\n",
       "      <td>4</td>\n",
       "    </tr>\n",
       "    <tr>\n",
       "      <th>4</th>\n",
       "      <td>9.161082</td>\n",
       "      <td>1.433034</td>\n",
       "      <td>1.648387</td>\n",
       "      <td>0.338874</td>\n",
       "      <td>5</td>\n",
       "      <td>{'SGD__alpha': 5}</td>\n",
       "      <td>-4063.205175</td>\n",
       "      <td>-4010.250978</td>\n",
       "      <td>-4039.454533</td>\n",
       "      <td>-4037.636895</td>\n",
       "      <td>21.656633</td>\n",
       "      <td>5</td>\n",
       "    </tr>\n",
       "  </tbody>\n",
       "</table>\n",
       "</div>"
      ],
      "text/plain": [
       "   mean_fit_time  std_fit_time  mean_score_time  std_score_time   \n",
       "0      67.518379      2.660707         3.758517        1.455544  \\\n",
       "1      66.455437      1.664422         2.977019        1.121304   \n",
       "2      35.465027     18.847750         2.519759        1.119148   \n",
       "3      13.155859      1.249641         1.745923        0.733990   \n",
       "4       9.161082      1.433034         1.648387        0.338874   \n",
       "\n",
       "  param_SGD__alpha               params  split0_test_score  split1_test_score   \n",
       "0                0    {'SGD__alpha': 0}       -2673.732053       -2668.307920  \\\n",
       "1              0.1  {'SGD__alpha': 0.1}       -2876.340951       -2871.695475   \n",
       "2                1    {'SGD__alpha': 1}       -3339.265536       -3315.884842   \n",
       "3                2    {'SGD__alpha': 2}       -3610.984751       -3597.538722   \n",
       "4                5    {'SGD__alpha': 5}       -4063.205175       -4010.250978   \n",
       "\n",
       "   split2_test_score  mean_test_score  std_test_score  rank_test_score  \n",
       "0       -2680.567655     -2674.202543        5.016061                1  \n",
       "1       -2889.527148     -2879.187858        7.552960                2  \n",
       "2       -3343.120903     -3332.757093       12.033858                3  \n",
       "3       -3604.892129     -3604.471868        5.497356                4  \n",
       "4       -4039.454533     -4037.636895       21.656633                5  "
      ]
     },
     "execution_count": 58,
     "metadata": {},
     "output_type": "execute_result"
    }
   ],
   "source": [
    "%%time\n",
    "columns_for_ohe = ['vehicle_type', 'registration_year', 'gearbox', 'power', 'model', 'kilometer', 'fuel_type', 'brand', 'repaired', 'day_exp', 'postal_code_start', 'postal_code_len']\n",
    "model = Pipeline(\n",
    "    [('ct', ct_ohe_and_scaler),\n",
    "    ('SGD', SGDRegressor(early_stopping=True))]\n",
    "    )\n",
    "param = {'SGD__alpha': [0, 0.1, 1, 2, 5]}\n",
    "\n",
    "grid_line = GridSearchCV(model, param_grid=param, cv=3, n_jobs=-1, scoring=rmse)\n",
    "grid_line.fit(features_train[columns_for_ohe], target_train)\n",
    "print('Результаты подбора гиперпараметров для SGDRegressor')\n",
    "pd.DataFrame(grid_line.cv_results_).sort_values(by='rank_test_score')"
   ]
  },
  {
   "cell_type": "markdown",
   "metadata": {},
   "source": [
    "Результат настолько плох, что настраивать эту модель дальше бессмысленно. Перейдем к градиентному бустингу."
   ]
  },
  {
   "cell_type": "code",
   "execution_count": 59,
   "metadata": {},
   "outputs": [
    {
     "name": "stderr",
     "output_type": "stream",
     "text": [
      "C:\\Users\\User\\anaconda3\\envs\\practicum\\lib\\site-packages\\sklearn\\preprocessing\\_encoders.py:868: FutureWarning: `sparse` was renamed to `sparse_output` in version 1.2 and will be removed in 1.4. `sparse_output` is ignored unless you leave `sparse` to its default value.\n",
      "  warnings.warn(\n"
     ]
    },
    {
     "name": "stdout",
     "output_type": "stream",
     "text": [
      "CPU times: total: 1min 20s\n",
      "Wall time: 7min 12s\n"
     ]
    },
    {
     "data": {
      "text/html": [
       "<div>\n",
       "<style scoped>\n",
       "    .dataframe tbody tr th:only-of-type {\n",
       "        vertical-align: middle;\n",
       "    }\n",
       "\n",
       "    .dataframe tbody tr th {\n",
       "        vertical-align: top;\n",
       "    }\n",
       "\n",
       "    .dataframe thead th {\n",
       "        text-align: right;\n",
       "    }\n",
       "</style>\n",
       "<table border=\"1\" class=\"dataframe\">\n",
       "  <thead>\n",
       "    <tr style=\"text-align: right;\">\n",
       "      <th></th>\n",
       "      <th>mean_fit_time</th>\n",
       "      <th>std_fit_time</th>\n",
       "      <th>mean_score_time</th>\n",
       "      <th>std_score_time</th>\n",
       "      <th>param_lgbm__n_estimators</th>\n",
       "      <th>param_lgbm__num_leaves</th>\n",
       "      <th>params</th>\n",
       "      <th>split0_test_score</th>\n",
       "      <th>split1_test_score</th>\n",
       "      <th>split2_test_score</th>\n",
       "      <th>split3_test_score</th>\n",
       "      <th>split4_test_score</th>\n",
       "      <th>mean_test_score</th>\n",
       "      <th>std_test_score</th>\n",
       "      <th>rank_test_score</th>\n",
       "    </tr>\n",
       "  </thead>\n",
       "  <tbody>\n",
       "    <tr>\n",
       "      <th>7</th>\n",
       "      <td>58.297871</td>\n",
       "      <td>2.958383</td>\n",
       "      <td>46.491304</td>\n",
       "      <td>4.812517</td>\n",
       "      <td>900</td>\n",
       "      <td>120</td>\n",
       "      <td>{'lgbm__n_estimators': 900, 'lgbm__num_leaves'...</td>\n",
       "      <td>-1528.047612</td>\n",
       "      <td>-1512.157247</td>\n",
       "      <td>-1499.785796</td>\n",
       "      <td>-1541.733284</td>\n",
       "      <td>-1532.588170</td>\n",
       "      <td>-1522.862422</td>\n",
       "      <td>14.998115</td>\n",
       "      <td>1</td>\n",
       "    </tr>\n",
       "    <tr>\n",
       "      <th>5</th>\n",
       "      <td>41.754353</td>\n",
       "      <td>5.649014</td>\n",
       "      <td>13.795370</td>\n",
       "      <td>1.549757</td>\n",
       "      <td>300</td>\n",
       "      <td>240</td>\n",
       "      <td>{'lgbm__n_estimators': 300, 'lgbm__num_leaves'...</td>\n",
       "      <td>-1528.122084</td>\n",
       "      <td>-1511.693031</td>\n",
       "      <td>-1500.577211</td>\n",
       "      <td>-1544.040624</td>\n",
       "      <td>-1540.250915</td>\n",
       "      <td>-1524.936773</td>\n",
       "      <td>16.603682</td>\n",
       "      <td>2</td>\n",
       "    </tr>\n",
       "    <tr>\n",
       "      <th>8</th>\n",
       "      <td>77.833248</td>\n",
       "      <td>6.728329</td>\n",
       "      <td>44.791223</td>\n",
       "      <td>10.143343</td>\n",
       "      <td>900</td>\n",
       "      <td>240</td>\n",
       "      <td>{'lgbm__n_estimators': 900, 'lgbm__num_leaves'...</td>\n",
       "      <td>-1528.170816</td>\n",
       "      <td>-1516.295892</td>\n",
       "      <td>-1500.932679</td>\n",
       "      <td>-1540.946798</td>\n",
       "      <td>-1538.999579</td>\n",
       "      <td>-1525.069153</td>\n",
       "      <td>14.935301</td>\n",
       "      <td>3</td>\n",
       "    </tr>\n",
       "    <tr>\n",
       "      <th>6</th>\n",
       "      <td>45.342432</td>\n",
       "      <td>1.578731</td>\n",
       "      <td>27.062158</td>\n",
       "      <td>1.093150</td>\n",
       "      <td>900</td>\n",
       "      <td>60</td>\n",
       "      <td>{'lgbm__n_estimators': 900, 'lgbm__num_leaves'...</td>\n",
       "      <td>-1534.585869</td>\n",
       "      <td>-1518.376486</td>\n",
       "      <td>-1514.697717</td>\n",
       "      <td>-1555.862278</td>\n",
       "      <td>-1540.255346</td>\n",
       "      <td>-1532.755539</td>\n",
       "      <td>15.009069</td>\n",
       "      <td>4</td>\n",
       "    </tr>\n",
       "    <tr>\n",
       "      <th>4</th>\n",
       "      <td>39.261529</td>\n",
       "      <td>3.286780</td>\n",
       "      <td>8.275248</td>\n",
       "      <td>1.645723</td>\n",
       "      <td>300</td>\n",
       "      <td>120</td>\n",
       "      <td>{'lgbm__n_estimators': 300, 'lgbm__num_leaves'...</td>\n",
       "      <td>-1539.281958</td>\n",
       "      <td>-1523.336684</td>\n",
       "      <td>-1515.203550</td>\n",
       "      <td>-1560.154567</td>\n",
       "      <td>-1544.371353</td>\n",
       "      <td>-1536.469622</td>\n",
       "      <td>15.849562</td>\n",
       "      <td>5</td>\n",
       "    </tr>\n",
       "    <tr>\n",
       "      <th>2</th>\n",
       "      <td>34.496116</td>\n",
       "      <td>6.502200</td>\n",
       "      <td>6.403213</td>\n",
       "      <td>1.027697</td>\n",
       "      <td>100</td>\n",
       "      <td>240</td>\n",
       "      <td>{'lgbm__n_estimators': 100, 'lgbm__num_leaves'...</td>\n",
       "      <td>-1547.935640</td>\n",
       "      <td>-1533.278947</td>\n",
       "      <td>-1523.638907</td>\n",
       "      <td>-1571.990941</td>\n",
       "      <td>-1560.563761</td>\n",
       "      <td>-1547.481639</td>\n",
       "      <td>17.562723</td>\n",
       "      <td>6</td>\n",
       "    </tr>\n",
       "    <tr>\n",
       "      <th>3</th>\n",
       "      <td>35.355916</td>\n",
       "      <td>2.456364</td>\n",
       "      <td>8.061569</td>\n",
       "      <td>1.749929</td>\n",
       "      <td>300</td>\n",
       "      <td>60</td>\n",
       "      <td>{'lgbm__n_estimators': 300, 'lgbm__num_leaves'...</td>\n",
       "      <td>-1560.546379</td>\n",
       "      <td>-1543.126437</td>\n",
       "      <td>-1541.666197</td>\n",
       "      <td>-1586.298334</td>\n",
       "      <td>-1564.415713</td>\n",
       "      <td>-1559.210612</td>\n",
       "      <td>16.304166</td>\n",
       "      <td>7</td>\n",
       "    </tr>\n",
       "    <tr>\n",
       "      <th>1</th>\n",
       "      <td>40.997020</td>\n",
       "      <td>15.932791</td>\n",
       "      <td>6.121548</td>\n",
       "      <td>1.150014</td>\n",
       "      <td>100</td>\n",
       "      <td>120</td>\n",
       "      <td>{'lgbm__n_estimators': 100, 'lgbm__num_leaves'...</td>\n",
       "      <td>-1576.900057</td>\n",
       "      <td>-1558.464425</td>\n",
       "      <td>-1552.528689</td>\n",
       "      <td>-1600.596933</td>\n",
       "      <td>-1579.443222</td>\n",
       "      <td>-1573.586665</td>\n",
       "      <td>17.011484</td>\n",
       "      <td>8</td>\n",
       "    </tr>\n",
       "    <tr>\n",
       "      <th>0</th>\n",
       "      <td>59.888719</td>\n",
       "      <td>5.983106</td>\n",
       "      <td>5.901708</td>\n",
       "      <td>0.903745</td>\n",
       "      <td>100</td>\n",
       "      <td>60</td>\n",
       "      <td>{'lgbm__n_estimators': 100, 'lgbm__num_leaves'...</td>\n",
       "      <td>-1612.607887</td>\n",
       "      <td>-1596.567975</td>\n",
       "      <td>-1591.917435</td>\n",
       "      <td>-1643.182120</td>\n",
       "      <td>-1613.254011</td>\n",
       "      <td>-1611.505886</td>\n",
       "      <td>17.969434</td>\n",
       "      <td>9</td>\n",
       "    </tr>\n",
       "  </tbody>\n",
       "</table>\n",
       "</div>"
      ],
      "text/plain": [
       "   mean_fit_time  std_fit_time  mean_score_time  std_score_time   \n",
       "7      58.297871      2.958383        46.491304        4.812517  \\\n",
       "5      41.754353      5.649014        13.795370        1.549757   \n",
       "8      77.833248      6.728329        44.791223       10.143343   \n",
       "6      45.342432      1.578731        27.062158        1.093150   \n",
       "4      39.261529      3.286780         8.275248        1.645723   \n",
       "2      34.496116      6.502200         6.403213        1.027697   \n",
       "3      35.355916      2.456364         8.061569        1.749929   \n",
       "1      40.997020     15.932791         6.121548        1.150014   \n",
       "0      59.888719      5.983106         5.901708        0.903745   \n",
       "\n",
       "  param_lgbm__n_estimators param_lgbm__num_leaves   \n",
       "7                      900                    120  \\\n",
       "5                      300                    240   \n",
       "8                      900                    240   \n",
       "6                      900                     60   \n",
       "4                      300                    120   \n",
       "2                      100                    240   \n",
       "3                      300                     60   \n",
       "1                      100                    120   \n",
       "0                      100                     60   \n",
       "\n",
       "                                              params  split0_test_score   \n",
       "7  {'lgbm__n_estimators': 900, 'lgbm__num_leaves'...       -1528.047612  \\\n",
       "5  {'lgbm__n_estimators': 300, 'lgbm__num_leaves'...       -1528.122084   \n",
       "8  {'lgbm__n_estimators': 900, 'lgbm__num_leaves'...       -1528.170816   \n",
       "6  {'lgbm__n_estimators': 900, 'lgbm__num_leaves'...       -1534.585869   \n",
       "4  {'lgbm__n_estimators': 300, 'lgbm__num_leaves'...       -1539.281958   \n",
       "2  {'lgbm__n_estimators': 100, 'lgbm__num_leaves'...       -1547.935640   \n",
       "3  {'lgbm__n_estimators': 300, 'lgbm__num_leaves'...       -1560.546379   \n",
       "1  {'lgbm__n_estimators': 100, 'lgbm__num_leaves'...       -1576.900057   \n",
       "0  {'lgbm__n_estimators': 100, 'lgbm__num_leaves'...       -1612.607887   \n",
       "\n",
       "   split1_test_score  split2_test_score  split3_test_score  split4_test_score   \n",
       "7       -1512.157247       -1499.785796       -1541.733284       -1532.588170  \\\n",
       "5       -1511.693031       -1500.577211       -1544.040624       -1540.250915   \n",
       "8       -1516.295892       -1500.932679       -1540.946798       -1538.999579   \n",
       "6       -1518.376486       -1514.697717       -1555.862278       -1540.255346   \n",
       "4       -1523.336684       -1515.203550       -1560.154567       -1544.371353   \n",
       "2       -1533.278947       -1523.638907       -1571.990941       -1560.563761   \n",
       "3       -1543.126437       -1541.666197       -1586.298334       -1564.415713   \n",
       "1       -1558.464425       -1552.528689       -1600.596933       -1579.443222   \n",
       "0       -1596.567975       -1591.917435       -1643.182120       -1613.254011   \n",
       "\n",
       "   mean_test_score  std_test_score  rank_test_score  \n",
       "7     -1522.862422       14.998115                1  \n",
       "5     -1524.936773       16.603682                2  \n",
       "8     -1525.069153       14.935301                3  \n",
       "6     -1532.755539       15.009069                4  \n",
       "4     -1536.469622       15.849562                5  \n",
       "2     -1547.481639       17.562723                6  \n",
       "3     -1559.210612       16.304166                7  \n",
       "1     -1573.586665       17.011484                8  \n",
       "0     -1611.505886       17.969434                9  "
      ]
     },
     "execution_count": 59,
     "metadata": {},
     "output_type": "execute_result"
    }
   ],
   "source": [
    "%%time\n",
    "columns_for_ohe = ['vehicle_type', 'registration_year', 'gearbox', 'power', 'model', 'kilometer', 'fuel_type', 'brand', 'repaired', 'day_exp', 'postal_code_start', 'postal_code_len']\n",
    "LGBM_model = Pipeline(\n",
    "    [('ct', ct_ohe),\n",
    "    ('lgbm', LGBMRegressor())]\n",
    ")\n",
    "param = {'lgbm__n_estimators': [100, 300, 900],\n",
    "    'lgbm__num_leaves': [60, 120, 240]}\n",
    "grid_light = GridSearchCV(LGBM_model, param_grid=param, cv=5, n_jobs=-1, scoring=rmse)\n",
    "grid_light.fit(features_train[columns_for_ohe], target_train)\n",
    "pd.DataFrame(grid_light.cv_results_).sort_values(by='rank_test_score')"
   ]
  },
  {
   "cell_type": "markdown",
   "metadata": {},
   "source": [
    "Первые результаты уже превзошли другие модели. Очевидно, имеет смысл попробовать другие значения гиперпараметров вокруг наилучшего из обнаруженных вариантов."
   ]
  },
  {
   "cell_type": "code",
   "execution_count": 60,
   "metadata": {},
   "outputs": [
    {
     "name": "stderr",
     "output_type": "stream",
     "text": [
      "C:\\Users\\User\\anaconda3\\envs\\practicum\\lib\\site-packages\\sklearn\\preprocessing\\_encoders.py:868: FutureWarning: `sparse` was renamed to `sparse_output` in version 1.2 and will be removed in 1.4. `sparse_output` is ignored unless you leave `sparse` to its default value.\n",
      "  warnings.warn(\n"
     ]
    },
    {
     "data": {
      "text/html": [
       "<div>\n",
       "<style scoped>\n",
       "    .dataframe tbody tr th:only-of-type {\n",
       "        vertical-align: middle;\n",
       "    }\n",
       "\n",
       "    .dataframe tbody tr th {\n",
       "        vertical-align: top;\n",
       "    }\n",
       "\n",
       "    .dataframe thead th {\n",
       "        text-align: right;\n",
       "    }\n",
       "</style>\n",
       "<table border=\"1\" class=\"dataframe\">\n",
       "  <thead>\n",
       "    <tr style=\"text-align: right;\">\n",
       "      <th></th>\n",
       "      <th>mean_fit_time</th>\n",
       "      <th>std_fit_time</th>\n",
       "      <th>mean_score_time</th>\n",
       "      <th>std_score_time</th>\n",
       "      <th>param_lgbm__n_estimators</th>\n",
       "      <th>param_lgbm__num_leaves</th>\n",
       "      <th>params</th>\n",
       "      <th>split0_test_score</th>\n",
       "      <th>split1_test_score</th>\n",
       "      <th>split2_test_score</th>\n",
       "      <th>split3_test_score</th>\n",
       "      <th>split4_test_score</th>\n",
       "      <th>mean_test_score</th>\n",
       "      <th>std_test_score</th>\n",
       "      <th>rank_test_score</th>\n",
       "    </tr>\n",
       "  </thead>\n",
       "  <tbody>\n",
       "    <tr>\n",
       "      <th>1</th>\n",
       "      <td>79.555300</td>\n",
       "      <td>15.452393</td>\n",
       "      <td>51.035735</td>\n",
       "      <td>4.369565</td>\n",
       "      <td>900</td>\n",
       "      <td>120</td>\n",
       "      <td>{'lgbm__n_estimators': 900, 'lgbm__num_leaves'...</td>\n",
       "      <td>-1528.047612</td>\n",
       "      <td>-1512.157247</td>\n",
       "      <td>-1499.785796</td>\n",
       "      <td>-1541.733284</td>\n",
       "      <td>-1532.588170</td>\n",
       "      <td>-1522.862422</td>\n",
       "      <td>14.998115</td>\n",
       "      <td>1</td>\n",
       "    </tr>\n",
       "    <tr>\n",
       "      <th>2</th>\n",
       "      <td>82.189081</td>\n",
       "      <td>9.675306</td>\n",
       "      <td>46.020604</td>\n",
       "      <td>6.528469</td>\n",
       "      <td>1500</td>\n",
       "      <td>120</td>\n",
       "      <td>{'lgbm__n_estimators': 1500, 'lgbm__num_leaves...</td>\n",
       "      <td>-1529.333194</td>\n",
       "      <td>-1515.628788</td>\n",
       "      <td>-1500.464857</td>\n",
       "      <td>-1541.817873</td>\n",
       "      <td>-1533.308296</td>\n",
       "      <td>-1524.110602</td>\n",
       "      <td>14.536044</td>\n",
       "      <td>2</td>\n",
       "    </tr>\n",
       "    <tr>\n",
       "      <th>0</th>\n",
       "      <td>70.364759</td>\n",
       "      <td>9.564316</td>\n",
       "      <td>20.512998</td>\n",
       "      <td>3.525044</td>\n",
       "      <td>500</td>\n",
       "      <td>120</td>\n",
       "      <td>{'lgbm__n_estimators': 500, 'lgbm__num_leaves'...</td>\n",
       "      <td>-1531.364902</td>\n",
       "      <td>-1514.847552</td>\n",
       "      <td>-1506.548342</td>\n",
       "      <td>-1549.170570</td>\n",
       "      <td>-1536.614088</td>\n",
       "      <td>-1527.709091</td>\n",
       "      <td>15.273870</td>\n",
       "      <td>3</td>\n",
       "    </tr>\n",
       "  </tbody>\n",
       "</table>\n",
       "</div>"
      ],
      "text/plain": [
       "   mean_fit_time  std_fit_time  mean_score_time  std_score_time   \n",
       "1      79.555300     15.452393        51.035735        4.369565  \\\n",
       "2      82.189081      9.675306        46.020604        6.528469   \n",
       "0      70.364759      9.564316        20.512998        3.525044   \n",
       "\n",
       "  param_lgbm__n_estimators param_lgbm__num_leaves   \n",
       "1                      900                    120  \\\n",
       "2                     1500                    120   \n",
       "0                      500                    120   \n",
       "\n",
       "                                              params  split0_test_score   \n",
       "1  {'lgbm__n_estimators': 900, 'lgbm__num_leaves'...       -1528.047612  \\\n",
       "2  {'lgbm__n_estimators': 1500, 'lgbm__num_leaves...       -1529.333194   \n",
       "0  {'lgbm__n_estimators': 500, 'lgbm__num_leaves'...       -1531.364902   \n",
       "\n",
       "   split1_test_score  split2_test_score  split3_test_score  split4_test_score   \n",
       "1       -1512.157247       -1499.785796       -1541.733284       -1532.588170  \\\n",
       "2       -1515.628788       -1500.464857       -1541.817873       -1533.308296   \n",
       "0       -1514.847552       -1506.548342       -1549.170570       -1536.614088   \n",
       "\n",
       "   mean_test_score  std_test_score  rank_test_score  \n",
       "1     -1522.862422       14.998115                1  \n",
       "2     -1524.110602       14.536044                2  \n",
       "0     -1527.709091       15.273870                3  "
      ]
     },
     "execution_count": 60,
     "metadata": {},
     "output_type": "execute_result"
    }
   ],
   "source": [
    "param = {'lgbm__n_estimators': [500, 900, 1500],\n",
    "    'lgbm__num_leaves': [120, ]}\n",
    "grid_light = GridSearchCV(LGBM_model, param_grid=param, cv=5, n_jobs=-1, scoring=rmse)\n",
    "grid_light.fit(features_train[columns_for_ohe], target_train)\n",
    "pd.DataFrame(grid_light.cv_results_).sort_values(by='rank_test_score')"
   ]
  },
  {
   "cell_type": "markdown",
   "metadata": {},
   "source": [
    "Остановим свой выбор на модели с 900 деревьями и 120 листьями. Она лучше других предсказывает стоимость. Скорость обучения и предсказания также лучше."
   ]
  },
  {
   "cell_type": "markdown",
   "metadata": {},
   "source": [
    "### Выводы\n",
    "В этой части проекта мы завершили подготовку данных для обучения моделей и проверили 4 модели.\n",
    "- Сначала мы разделили выборку на тренировочную и тестовую, а также подготовили функцию потерь.\n",
    "- Далее с помощью случайного леса выяснили, насколько полезны сконструированные на прошлом этапе признаки. В результате уменьшили их количество почти на четверть.\n",
    "- Потом оценили эффективность случайного леса с двумя вариантами кодирования категориальных признаков, стахастического градиентного спуска и бустинга.\n",
    "Градиентный спуск показал себя быстрой, но неточной моделью. Случайный лес достаточно точный, но очень медленный. Бустинг смог собрать преимущества обеих моделей – самая точная и самая быстрая. Проверять на тестовой выборке будем именно ее.\n"
   ]
  },
  {
   "cell_type": "markdown",
   "metadata": {},
   "source": [
    "## Тестирование лучшей модели"
   ]
  },
  {
   "cell_type": "markdown",
   "metadata": {},
   "source": [
    "Осталось проверить лучшую из моделей на тестовой выборке. Для этого заново обучим ее на полной тренировочной выборке, а затем спрогнозируем стоимость для тестовой выборки.\n"
   ]
  },
  {
   "cell_type": "code",
   "execution_count": 61,
   "metadata": {},
   "outputs": [
    {
     "name": "stderr",
     "output_type": "stream",
     "text": [
      "C:\\Users\\User\\anaconda3\\envs\\practicum\\lib\\site-packages\\sklearn\\preprocessing\\_encoders.py:868: FutureWarning: `sparse` was renamed to `sparse_output` in version 1.2 and will be removed in 1.4. `sparse_output` is ignored unless you leave `sparse` to its default value.\n",
      "  warnings.warn(\n"
     ]
    },
    {
     "name": "stdout",
     "output_type": "stream",
     "text": [
      "CPU times: total: 1min\n",
      "Wall time: 11.9 s\n"
     ]
    },
    {
     "data": {
      "text/html": [
       "<style>#sk-container-id-2 {color: black;background-color: white;}#sk-container-id-2 pre{padding: 0;}#sk-container-id-2 div.sk-toggleable {background-color: white;}#sk-container-id-2 label.sk-toggleable__label {cursor: pointer;display: block;width: 100%;margin-bottom: 0;padding: 0.3em;box-sizing: border-box;text-align: center;}#sk-container-id-2 label.sk-toggleable__label-arrow:before {content: \"▸\";float: left;margin-right: 0.25em;color: #696969;}#sk-container-id-2 label.sk-toggleable__label-arrow:hover:before {color: black;}#sk-container-id-2 div.sk-estimator:hover label.sk-toggleable__label-arrow:before {color: black;}#sk-container-id-2 div.sk-toggleable__content {max-height: 0;max-width: 0;overflow: hidden;text-align: left;background-color: #f0f8ff;}#sk-container-id-2 div.sk-toggleable__content pre {margin: 0.2em;color: black;border-radius: 0.25em;background-color: #f0f8ff;}#sk-container-id-2 input.sk-toggleable__control:checked~div.sk-toggleable__content {max-height: 200px;max-width: 100%;overflow: auto;}#sk-container-id-2 input.sk-toggleable__control:checked~label.sk-toggleable__label-arrow:before {content: \"▾\";}#sk-container-id-2 div.sk-estimator input.sk-toggleable__control:checked~label.sk-toggleable__label {background-color: #d4ebff;}#sk-container-id-2 div.sk-label input.sk-toggleable__control:checked~label.sk-toggleable__label {background-color: #d4ebff;}#sk-container-id-2 input.sk-hidden--visually {border: 0;clip: rect(1px 1px 1px 1px);clip: rect(1px, 1px, 1px, 1px);height: 1px;margin: -1px;overflow: hidden;padding: 0;position: absolute;width: 1px;}#sk-container-id-2 div.sk-estimator {font-family: monospace;background-color: #f0f8ff;border: 1px dotted black;border-radius: 0.25em;box-sizing: border-box;margin-bottom: 0.5em;}#sk-container-id-2 div.sk-estimator:hover {background-color: #d4ebff;}#sk-container-id-2 div.sk-parallel-item::after {content: \"\";width: 100%;border-bottom: 1px solid gray;flex-grow: 1;}#sk-container-id-2 div.sk-label:hover label.sk-toggleable__label {background-color: #d4ebff;}#sk-container-id-2 div.sk-serial::before {content: \"\";position: absolute;border-left: 1px solid gray;box-sizing: border-box;top: 0;bottom: 0;left: 50%;z-index: 0;}#sk-container-id-2 div.sk-serial {display: flex;flex-direction: column;align-items: center;background-color: white;padding-right: 0.2em;padding-left: 0.2em;position: relative;}#sk-container-id-2 div.sk-item {position: relative;z-index: 1;}#sk-container-id-2 div.sk-parallel {display: flex;align-items: stretch;justify-content: center;background-color: white;position: relative;}#sk-container-id-2 div.sk-item::before, #sk-container-id-2 div.sk-parallel-item::before {content: \"\";position: absolute;border-left: 1px solid gray;box-sizing: border-box;top: 0;bottom: 0;left: 50%;z-index: -1;}#sk-container-id-2 div.sk-parallel-item {display: flex;flex-direction: column;z-index: 1;position: relative;background-color: white;}#sk-container-id-2 div.sk-parallel-item:first-child::after {align-self: flex-end;width: 50%;}#sk-container-id-2 div.sk-parallel-item:last-child::after {align-self: flex-start;width: 50%;}#sk-container-id-2 div.sk-parallel-item:only-child::after {width: 0;}#sk-container-id-2 div.sk-dashed-wrapped {border: 1px dashed gray;margin: 0 0.4em 0.5em 0.4em;box-sizing: border-box;padding-bottom: 0.4em;background-color: white;}#sk-container-id-2 div.sk-label label {font-family: monospace;font-weight: bold;display: inline-block;line-height: 1.2em;}#sk-container-id-2 div.sk-label-container {text-align: center;}#sk-container-id-2 div.sk-container {/* jupyter's `normalize.less` sets `[hidden] { display: none; }` but bootstrap.min.css set `[hidden] { display: none !important; }` so we also need the `!important` here to be able to override the default hidden behavior on the sphinx rendered scikit-learn.org. See: https://github.com/scikit-learn/scikit-learn/issues/21755 */display: inline-block !important;position: relative;}#sk-container-id-2 div.sk-text-repr-fallback {display: none;}</style><div id=\"sk-container-id-2\" class=\"sk-top-container\"><div class=\"sk-text-repr-fallback\"><pre>Pipeline(steps=[(&#x27;ct&#x27;,\n",
       "                 ColumnTransformer(remainder=&#x27;passthrough&#x27;,\n",
       "                                   transformers=[(&#x27;ohe&#x27;,\n",
       "                                                  OneHotEncoder(drop=&#x27;first&#x27;,\n",
       "                                                                handle_unknown=&#x27;ignore&#x27;,\n",
       "                                                                sparse=False),\n",
       "                                                  &lt;sklearn.compose._column_transformer.make_column_selector object at 0x00000200C4B74940&gt;)])),\n",
       "                (&#x27;lgbm&#x27;, LGBMRegressor(n_estimators=900, num_leaves=120))])</pre><b>In a Jupyter environment, please rerun this cell to show the HTML representation or trust the notebook. <br />On GitHub, the HTML representation is unable to render, please try loading this page with nbviewer.org.</b></div><div class=\"sk-container\" hidden><div class=\"sk-item sk-dashed-wrapped\"><div class=\"sk-label-container\"><div class=\"sk-label sk-toggleable\"><input class=\"sk-toggleable__control sk-hidden--visually\" id=\"sk-estimator-id-8\" type=\"checkbox\" ><label for=\"sk-estimator-id-8\" class=\"sk-toggleable__label sk-toggleable__label-arrow\">Pipeline</label><div class=\"sk-toggleable__content\"><pre>Pipeline(steps=[(&#x27;ct&#x27;,\n",
       "                 ColumnTransformer(remainder=&#x27;passthrough&#x27;,\n",
       "                                   transformers=[(&#x27;ohe&#x27;,\n",
       "                                                  OneHotEncoder(drop=&#x27;first&#x27;,\n",
       "                                                                handle_unknown=&#x27;ignore&#x27;,\n",
       "                                                                sparse=False),\n",
       "                                                  &lt;sklearn.compose._column_transformer.make_column_selector object at 0x00000200C4B74940&gt;)])),\n",
       "                (&#x27;lgbm&#x27;, LGBMRegressor(n_estimators=900, num_leaves=120))])</pre></div></div></div><div class=\"sk-serial\"><div class=\"sk-item sk-dashed-wrapped\"><div class=\"sk-label-container\"><div class=\"sk-label sk-toggleable\"><input class=\"sk-toggleable__control sk-hidden--visually\" id=\"sk-estimator-id-9\" type=\"checkbox\" ><label for=\"sk-estimator-id-9\" class=\"sk-toggleable__label sk-toggleable__label-arrow\">ct: ColumnTransformer</label><div class=\"sk-toggleable__content\"><pre>ColumnTransformer(remainder=&#x27;passthrough&#x27;,\n",
       "                  transformers=[(&#x27;ohe&#x27;,\n",
       "                                 OneHotEncoder(drop=&#x27;first&#x27;,\n",
       "                                               handle_unknown=&#x27;ignore&#x27;,\n",
       "                                               sparse=False),\n",
       "                                 &lt;sklearn.compose._column_transformer.make_column_selector object at 0x00000200C4B74940&gt;)])</pre></div></div></div><div class=\"sk-parallel\"><div class=\"sk-parallel-item\"><div class=\"sk-item\"><div class=\"sk-label-container\"><div class=\"sk-label sk-toggleable\"><input class=\"sk-toggleable__control sk-hidden--visually\" id=\"sk-estimator-id-10\" type=\"checkbox\" ><label for=\"sk-estimator-id-10\" class=\"sk-toggleable__label sk-toggleable__label-arrow\">ohe</label><div class=\"sk-toggleable__content\"><pre>&lt;sklearn.compose._column_transformer.make_column_selector object at 0x00000200C4B74940&gt;</pre></div></div></div><div class=\"sk-serial\"><div class=\"sk-item\"><div class=\"sk-estimator sk-toggleable\"><input class=\"sk-toggleable__control sk-hidden--visually\" id=\"sk-estimator-id-11\" type=\"checkbox\" ><label for=\"sk-estimator-id-11\" class=\"sk-toggleable__label sk-toggleable__label-arrow\">OneHotEncoder</label><div class=\"sk-toggleable__content\"><pre>OneHotEncoder(drop=&#x27;first&#x27;, handle_unknown=&#x27;ignore&#x27;, sparse=False)</pre></div></div></div></div></div></div><div class=\"sk-parallel-item\"><div class=\"sk-item\"><div class=\"sk-label-container\"><div class=\"sk-label sk-toggleable\"><input class=\"sk-toggleable__control sk-hidden--visually\" id=\"sk-estimator-id-12\" type=\"checkbox\" ><label for=\"sk-estimator-id-12\" class=\"sk-toggleable__label sk-toggleable__label-arrow\">remainder</label><div class=\"sk-toggleable__content\"><pre>[&#x27;registration_year&#x27;, &#x27;power&#x27;, &#x27;kilometer&#x27;, &#x27;repaired&#x27;, &#x27;day_exp&#x27;, &#x27;postal_code_len&#x27;]</pre></div></div></div><div class=\"sk-serial\"><div class=\"sk-item\"><div class=\"sk-estimator sk-toggleable\"><input class=\"sk-toggleable__control sk-hidden--visually\" id=\"sk-estimator-id-13\" type=\"checkbox\" ><label for=\"sk-estimator-id-13\" class=\"sk-toggleable__label sk-toggleable__label-arrow\">passthrough</label><div class=\"sk-toggleable__content\"><pre>passthrough</pre></div></div></div></div></div></div></div></div><div class=\"sk-item\"><div class=\"sk-estimator sk-toggleable\"><input class=\"sk-toggleable__control sk-hidden--visually\" id=\"sk-estimator-id-14\" type=\"checkbox\" ><label for=\"sk-estimator-id-14\" class=\"sk-toggleable__label sk-toggleable__label-arrow\">LGBMRegressor</label><div class=\"sk-toggleable__content\"><pre>LGBMRegressor(n_estimators=900, num_leaves=120)</pre></div></div></div></div></div></div></div>"
      ],
      "text/plain": [
       "Pipeline(steps=[('ct',\n",
       "                 ColumnTransformer(remainder='passthrough',\n",
       "                                   transformers=[('ohe',\n",
       "                                                  OneHotEncoder(drop='first',\n",
       "                                                                handle_unknown='ignore',\n",
       "                                                                sparse=False),\n",
       "                                                  <sklearn.compose._column_transformer.make_column_selector object at 0x00000200C4B74940>)])),\n",
       "                ('lgbm', LGBMRegressor(n_estimators=900, num_leaves=120))])"
      ]
     },
     "execution_count": 61,
     "metadata": {},
     "output_type": "execute_result"
    }
   ],
   "source": [
    "%%time\n",
    "model = grid_light.best_estimator_\n",
    "model.fit(features_train[columns_for_ohe], target_train)"
   ]
  },
  {
   "cell_type": "code",
   "execution_count": 62,
   "metadata": {},
   "outputs": [
    {
     "name": "stdout",
     "output_type": "stream",
     "text": [
      "RMSE на тестовой выборке 1501.3300909051013\n",
      "CPU times: total: 12.5 s\n",
      "Wall time: 2.81 s\n"
     ]
    }
   ],
   "source": [
    "%%time\n",
    "prediction_test = model.predict(features_test[columns_for_ohe])\n",
    "print('RMSE на тестовой выборке', mean_squared_error(target_test, prediction_test, squared=False))"
   ]
  },
  {
   "cell_type": "markdown",
   "metadata": {},
   "source": [
    "Проверка модели оказалась успешной. Она практически мгновенно обучается и демонстрирует результаты даже лучшие, чем при кросс-валидации. Результат следует признать хорошим."
   ]
  },
  {
   "cell_type": "markdown",
   "metadata": {},
   "source": [
    "## Выводы\n",
    "Перед нами стояла задача подобрать наиболее точную и быструю модель для прогнозирования стоимости подержанных автомобилей. В предоставленных данных были пропущенные данные и аномальные показатели. Эта информация могла бы оказаться полезной для создателей сервиса, ведь она может указывать на ошибки и недоработки в системе. Нам же пришлось дополнять и отсеивать подобные записи. Кроме решения этой задачи на первом этапе мы сконструировали ряд дополнительных признаков на основе имеющихся.\n",
    "На втором этапе был создан показатель качества модели, соответствующий пожеланиям заказчика. Далее мы отсеяли около 25 % признаков как не имеющие ценности для моделей путем сравнения их значения с совершенно случайным числом. Далее были подобраны наилучшие гиперпараметры для четырех моделей. К счастью, в нашем случае не пришлось искать компромисс между скоростью и точностью. По обоим параметрам победила модель lightgbm.LGBMRegressor. Она показал лучшую скорость обучения, предсказания и точность.\n",
    "На третьем этапе мы проверили модель на тестовой выборке. Она подтвердила свои характеристики, а значит может быть рекомендована заказчику.\n",
    "\n"
   ]
  }
 ],
 "metadata": {
  "ExecuteTimeLog": [
   {
    "duration": 1621,
    "start_time": "2022-12-23T09:28:51.345Z"
   },
   {
    "duration": 1127,
    "start_time": "2022-12-23T09:28:52.968Z"
   },
   {
    "duration": 127,
    "start_time": "2022-12-23T09:28:54.101Z"
   },
   {
    "duration": 4,
    "start_time": "2022-12-23T09:28:54.231Z"
   },
   {
    "duration": 280,
    "start_time": "2022-12-23T09:28:54.238Z"
   },
   {
    "duration": 3694,
    "start_time": "2022-12-23T09:28:54.520Z"
   },
   {
    "duration": 3499,
    "start_time": "2022-12-23T09:28:58.216Z"
   },
   {
    "duration": 37732,
    "start_time": "2022-12-23T09:29:01.716Z"
   },
   {
    "duration": 90693,
    "start_time": "2022-12-23T09:29:39.451Z"
   },
   {
    "duration": 94553,
    "start_time": "2022-12-23T09:31:10.145Z"
   },
   {
    "duration": 60297,
    "start_time": "2022-12-23T09:32:44.700Z"
   },
   {
    "duration": 3776,
    "start_time": "2022-12-23T09:33:44.999Z"
   },
   {
    "duration": 245,
    "start_time": "2022-12-23T09:33:48.776Z"
   },
   {
    "duration": 3862,
    "start_time": "2022-12-23T09:33:49.024Z"
   },
   {
    "duration": 111,
    "start_time": "2022-12-23T09:33:52.888Z"
   },
   {
    "duration": 67,
    "start_time": "2022-12-23T09:33:53.001Z"
   },
   {
    "duration": 22,
    "start_time": "2022-12-23T09:33:53.070Z"
   },
   {
    "duration": 185,
    "start_time": "2022-12-23T09:33:53.114Z"
   },
   {
    "duration": 14,
    "start_time": "2022-12-23T09:33:53.301Z"
   },
   {
    "duration": 285,
    "start_time": "2022-12-23T09:33:53.316Z"
   },
   {
    "duration": 629,
    "start_time": "2022-12-23T09:33:53.604Z"
   },
   {
    "duration": 6,
    "start_time": "2022-12-23T09:33:54.235Z"
   },
   {
    "duration": 52071,
    "start_time": "2022-12-23T09:33:54.243Z"
   },
   {
    "duration": 82,
    "start_time": "2022-12-23T09:34:46.316Z"
   },
   {
    "duration": 700,
    "start_time": "2022-12-23T09:34:46.399Z"
   },
   {
    "duration": 330,
    "start_time": "2022-12-23T09:34:47.101Z"
   },
   {
    "duration": 597,
    "start_time": "2022-12-23T09:34:47.433Z"
   },
   {
    "duration": 9,
    "start_time": "2022-12-23T09:34:48.032Z"
   },
   {
    "duration": 12,
    "start_time": "2022-12-23T09:34:48.042Z"
   },
   {
    "duration": 66,
    "start_time": "2022-12-23T09:34:48.057Z"
   },
   {
    "duration": 19,
    "start_time": "2022-12-23T09:34:48.125Z"
   },
   {
    "duration": 97,
    "start_time": "2022-12-23T09:34:48.146Z"
   },
   {
    "duration": 8,
    "start_time": "2022-12-23T09:34:48.245Z"
   },
   {
    "duration": 33,
    "start_time": "2022-12-23T09:34:48.255Z"
   },
   {
    "duration": 24,
    "start_time": "2022-12-23T09:34:48.289Z"
   },
   {
    "duration": 33,
    "start_time": "2022-12-23T09:34:48.315Z"
   },
   {
    "duration": 99,
    "start_time": "2022-12-23T09:34:48.349Z"
   },
   {
    "duration": 40,
    "start_time": "2022-12-23T09:34:48.449Z"
   },
   {
    "duration": 36,
    "start_time": "2022-12-23T09:34:48.491Z"
   },
   {
    "duration": 6,
    "start_time": "2022-12-23T09:34:48.529Z"
   },
   {
    "duration": 148,
    "start_time": "2022-12-23T09:34:48.539Z"
   },
   {
    "duration": 127,
    "start_time": "2022-12-23T09:34:48.688Z"
   },
   {
    "duration": 132,
    "start_time": "2022-12-23T09:34:48.817Z"
   },
   {
    "duration": 64,
    "start_time": "2022-12-23T09:34:48.951Z"
   },
   {
    "duration": 213,
    "start_time": "2022-12-23T09:34:49.017Z"
   },
   {
    "duration": 837,
    "start_time": "2022-12-23T09:34:49.231Z"
   },
   {
    "duration": 642,
    "start_time": "2022-12-23T09:34:50.070Z"
   },
   {
    "duration": 3,
    "start_time": "2022-12-23T09:34:50.714Z"
   },
   {
    "duration": 10,
    "start_time": "2022-12-23T09:34:50.719Z"
   },
   {
    "duration": 165765,
    "start_time": "2022-12-23T09:34:50.731Z"
   },
   {
    "duration": 25,
    "start_time": "2022-12-23T09:37:36.499Z"
   },
   {
    "duration": 262,
    "start_time": "2022-12-23T09:37:36.526Z"
   },
   {
    "duration": 110533,
    "start_time": "2022-12-23T09:37:36.790Z"
   },
   {
    "duration": 101,
    "start_time": "2022-12-23T09:39:27.324Z"
   },
   {
    "duration": 47,
    "start_time": "2022-12-25T08:49:49.820Z"
   },
   {
    "duration": 1235,
    "start_time": "2022-12-25T08:49:55.774Z"
   },
   {
    "duration": 1470,
    "start_time": "2022-12-25T08:49:57.011Z"
   },
   {
    "duration": 114,
    "start_time": "2022-12-25T08:49:58.482Z"
   },
   {
    "duration": 4,
    "start_time": "2022-12-25T08:49:58.598Z"
   },
   {
    "duration": 254,
    "start_time": "2022-12-25T08:49:58.604Z"
   },
   {
    "duration": 268,
    "start_time": "2022-12-25T08:49:58.859Z"
   },
   {
    "duration": 36937,
    "start_time": "2022-12-25T08:49:59.128Z"
   },
   {
    "duration": 90080,
    "start_time": "2022-12-25T08:50:36.067Z"
   },
   {
    "duration": 92337,
    "start_time": "2022-12-25T08:52:06.148Z"
   },
   {
    "duration": 59452,
    "start_time": "2022-12-25T08:53:38.488Z"
   },
   {
    "duration": 239,
    "start_time": "2022-12-25T08:54:37.943Z"
   },
   {
    "duration": 241,
    "start_time": "2022-12-25T08:54:38.184Z"
   },
   {
    "duration": 192,
    "start_time": "2022-12-25T08:54:38.426Z"
   },
   {
    "duration": 91,
    "start_time": "2022-12-25T08:54:38.620Z"
   },
   {
    "duration": 66,
    "start_time": "2022-12-25T08:54:38.713Z"
   },
   {
    "duration": 24,
    "start_time": "2022-12-25T08:54:38.780Z"
   },
   {
    "duration": 556,
    "start_time": "2022-12-25T08:54:38.806Z"
   },
   {
    "duration": 14,
    "start_time": "2022-12-25T08:54:39.364Z"
   },
   {
    "duration": 275,
    "start_time": "2022-12-25T08:54:39.379Z"
   },
   {
    "duration": 515,
    "start_time": "2022-12-25T08:54:39.656Z"
   },
   {
    "duration": 6,
    "start_time": "2022-12-25T08:54:40.178Z"
   },
   {
    "duration": 52794,
    "start_time": "2022-12-25T08:54:40.186Z"
   },
   {
    "duration": 102,
    "start_time": "2022-12-25T08:55:32.982Z"
   },
   {
    "duration": 662,
    "start_time": "2022-12-25T08:55:33.086Z"
   },
   {
    "duration": 474,
    "start_time": "2022-12-25T08:55:33.750Z"
   },
   {
    "duration": 660,
    "start_time": "2022-12-25T08:55:34.227Z"
   },
   {
    "duration": 9,
    "start_time": "2022-12-25T08:55:34.889Z"
   },
   {
    "duration": 50,
    "start_time": "2022-12-25T08:55:34.909Z"
   },
   {
    "duration": 135,
    "start_time": "2022-12-25T08:55:34.961Z"
   },
   {
    "duration": 20,
    "start_time": "2022-12-25T08:55:35.103Z"
   },
   {
    "duration": 101,
    "start_time": "2022-12-25T08:55:35.125Z"
   },
   {
    "duration": 9,
    "start_time": "2022-12-25T08:55:35.228Z"
   },
   {
    "duration": 114,
    "start_time": "2022-12-25T08:55:35.239Z"
   },
   {
    "duration": 11,
    "start_time": "2022-12-25T08:55:35.355Z"
   },
   {
    "duration": 85,
    "start_time": "2022-12-25T08:55:35.368Z"
   },
   {
    "duration": 99,
    "start_time": "2022-12-25T08:55:35.455Z"
   },
   {
    "duration": 50,
    "start_time": "2022-12-25T08:55:35.555Z"
   },
   {
    "duration": 43,
    "start_time": "2022-12-25T08:55:35.607Z"
   },
   {
    "duration": 18,
    "start_time": "2022-12-25T08:55:35.653Z"
   },
   {
    "duration": 267,
    "start_time": "2022-12-25T08:55:35.673Z"
   },
   {
    "duration": 156,
    "start_time": "2022-12-25T08:55:35.942Z"
   },
   {
    "duration": 202,
    "start_time": "2022-12-25T08:55:36.100Z"
   },
   {
    "duration": 61,
    "start_time": "2022-12-25T08:55:36.305Z"
   },
   {
    "duration": 236,
    "start_time": "2022-12-25T08:55:36.368Z"
   },
   {
    "duration": 149,
    "start_time": "2022-12-25T08:55:36.607Z"
   },
   {
    "duration": 153,
    "start_time": "2022-12-25T08:55:36.759Z"
   },
   {
    "duration": 208,
    "start_time": "2022-12-25T08:55:36.914Z"
   },
   {
    "duration": 0,
    "start_time": "2022-12-25T08:55:37.125Z"
   },
   {
    "duration": 0,
    "start_time": "2022-12-25T08:55:37.126Z"
   },
   {
    "duration": 0,
    "start_time": "2022-12-25T08:55:37.127Z"
   },
   {
    "duration": 0,
    "start_time": "2022-12-25T08:55:37.129Z"
   },
   {
    "duration": 0,
    "start_time": "2022-12-25T08:55:37.130Z"
   },
   {
    "duration": 0,
    "start_time": "2022-12-25T08:55:37.132Z"
   },
   {
    "duration": 0,
    "start_time": "2022-12-25T08:55:37.133Z"
   },
   {
    "duration": 0,
    "start_time": "2022-12-25T08:55:37.134Z"
   },
   {
    "duration": 0,
    "start_time": "2022-12-25T08:55:37.136Z"
   },
   {
    "duration": 0,
    "start_time": "2022-12-25T08:55:37.136Z"
   },
   {
    "duration": 0,
    "start_time": "2022-12-25T08:55:37.137Z"
   },
   {
    "duration": 0,
    "start_time": "2022-12-25T08:55:37.138Z"
   },
   {
    "duration": 0,
    "start_time": "2022-12-25T08:55:37.140Z"
   },
   {
    "duration": 0,
    "start_time": "2022-12-25T08:55:37.141Z"
   },
   {
    "duration": 0,
    "start_time": "2022-12-25T08:55:37.141Z"
   },
   {
    "duration": 0,
    "start_time": "2022-12-25T08:55:37.144Z"
   },
   {
    "duration": 0,
    "start_time": "2022-12-25T08:55:37.146Z"
   },
   {
    "duration": 0,
    "start_time": "2022-12-25T08:55:37.179Z"
   },
   {
    "duration": 19,
    "start_time": "2022-12-25T08:59:10.277Z"
   },
   {
    "duration": 8,
    "start_time": "2022-12-25T09:05:26.190Z"
   },
   {
    "duration": 1372,
    "start_time": "2022-12-25T09:05:47.802Z"
   },
   {
    "duration": 1552,
    "start_time": "2022-12-25T09:05:49.176Z"
   },
   {
    "duration": 129,
    "start_time": "2022-12-25T09:05:50.730Z"
   },
   {
    "duration": 5,
    "start_time": "2022-12-25T09:05:50.860Z"
   },
   {
    "duration": 312,
    "start_time": "2022-12-25T09:05:50.878Z"
   },
   {
    "duration": 309,
    "start_time": "2022-12-25T09:05:51.192Z"
   },
   {
    "duration": 36931,
    "start_time": "2022-12-25T09:05:51.503Z"
   },
   {
    "duration": 84325,
    "start_time": "2022-12-25T09:06:28.436Z"
   },
   {
    "duration": 91669,
    "start_time": "2022-12-25T09:07:52.764Z"
   },
   {
    "duration": 58547,
    "start_time": "2022-12-25T09:09:24.435Z"
   },
   {
    "duration": 202,
    "start_time": "2022-12-25T09:10:22.984Z"
   },
   {
    "duration": 225,
    "start_time": "2022-12-25T09:10:23.188Z"
   },
   {
    "duration": 194,
    "start_time": "2022-12-25T09:10:23.414Z"
   },
   {
    "duration": 126,
    "start_time": "2022-12-25T09:10:23.612Z"
   },
   {
    "duration": 62,
    "start_time": "2022-12-25T09:10:23.741Z"
   },
   {
    "duration": 19,
    "start_time": "2022-12-25T09:10:23.804Z"
   },
   {
    "duration": 420,
    "start_time": "2022-12-25T09:10:23.825Z"
   },
   {
    "duration": 8,
    "start_time": "2022-12-25T09:10:24.247Z"
   },
   {
    "duration": 279,
    "start_time": "2022-12-25T09:10:24.257Z"
   },
   {
    "duration": 552,
    "start_time": "2022-12-25T09:10:24.537Z"
   },
   {
    "duration": 6,
    "start_time": "2022-12-25T09:10:25.091Z"
   },
   {
    "duration": 49492,
    "start_time": "2022-12-25T09:10:25.099Z"
   },
   {
    "duration": 88,
    "start_time": "2022-12-25T09:11:14.592Z"
   },
   {
    "duration": 552,
    "start_time": "2022-12-25T09:11:14.681Z"
   },
   {
    "duration": 401,
    "start_time": "2022-12-25T09:11:15.234Z"
   },
   {
    "duration": 509,
    "start_time": "2022-12-25T09:11:15.636Z"
   },
   {
    "duration": 7,
    "start_time": "2022-12-25T09:11:16.147Z"
   },
   {
    "duration": 11,
    "start_time": "2022-12-25T09:11:16.155Z"
   },
   {
    "duration": 52,
    "start_time": "2022-12-25T09:11:16.168Z"
   },
   {
    "duration": 17,
    "start_time": "2022-12-25T09:11:16.221Z"
   },
   {
    "duration": 83,
    "start_time": "2022-12-25T09:11:16.240Z"
   },
   {
    "duration": 9,
    "start_time": "2022-12-25T09:11:16.325Z"
   },
   {
    "duration": 50,
    "start_time": "2022-12-25T09:11:16.335Z"
   },
   {
    "duration": 6,
    "start_time": "2022-12-25T09:11:16.387Z"
   },
   {
    "duration": 31,
    "start_time": "2022-12-25T09:11:16.395Z"
   },
   {
    "duration": 108,
    "start_time": "2022-12-25T09:11:16.428Z"
   },
   {
    "duration": 50,
    "start_time": "2022-12-25T09:11:16.537Z"
   },
   {
    "duration": 29,
    "start_time": "2022-12-25T09:11:16.589Z"
   },
   {
    "duration": 6,
    "start_time": "2022-12-25T09:11:16.620Z"
   },
   {
    "duration": 140,
    "start_time": "2022-12-25T09:11:16.627Z"
   },
   {
    "duration": 113,
    "start_time": "2022-12-25T09:11:16.771Z"
   },
   {
    "duration": 136,
    "start_time": "2022-12-25T09:11:16.885Z"
   },
   {
    "duration": 59,
    "start_time": "2022-12-25T09:11:17.022Z"
   },
   {
    "duration": 193,
    "start_time": "2022-12-25T09:11:17.082Z"
   },
   {
    "duration": 146,
    "start_time": "2022-12-25T09:11:17.277Z"
   },
   {
    "duration": 163,
    "start_time": "2022-12-25T09:11:17.425Z"
   },
   {
    "duration": 0,
    "start_time": "2022-12-25T09:11:17.590Z"
   },
   {
    "duration": 0,
    "start_time": "2022-12-25T09:11:17.591Z"
   },
   {
    "duration": 0,
    "start_time": "2022-12-25T09:11:17.592Z"
   },
   {
    "duration": 0,
    "start_time": "2022-12-25T09:11:17.593Z"
   },
   {
    "duration": 0,
    "start_time": "2022-12-25T09:11:17.594Z"
   },
   {
    "duration": 0,
    "start_time": "2022-12-25T09:11:17.595Z"
   },
   {
    "duration": 0,
    "start_time": "2022-12-25T09:11:17.596Z"
   },
   {
    "duration": 0,
    "start_time": "2022-12-25T09:11:17.597Z"
   },
   {
    "duration": 0,
    "start_time": "2022-12-25T09:11:17.599Z"
   },
   {
    "duration": 0,
    "start_time": "2022-12-25T09:11:17.599Z"
   },
   {
    "duration": 0,
    "start_time": "2022-12-25T09:11:17.600Z"
   },
   {
    "duration": 0,
    "start_time": "2022-12-25T09:11:17.601Z"
   },
   {
    "duration": 0,
    "start_time": "2022-12-25T09:11:17.602Z"
   },
   {
    "duration": 0,
    "start_time": "2022-12-25T09:11:17.603Z"
   },
   {
    "duration": 0,
    "start_time": "2022-12-25T09:11:17.604Z"
   },
   {
    "duration": 0,
    "start_time": "2022-12-25T09:11:17.605Z"
   },
   {
    "duration": 0,
    "start_time": "2022-12-25T09:11:17.606Z"
   },
   {
    "duration": 0,
    "start_time": "2022-12-25T09:11:17.608Z"
   },
   {
    "duration": 7516,
    "start_time": "2022-12-25T13:53:49.617Z"
   },
   {
    "duration": 2325,
    "start_time": "2022-12-25T13:54:39.377Z"
   },
   {
    "duration": 1276,
    "start_time": "2022-12-25T13:54:41.705Z"
   },
   {
    "duration": 1495,
    "start_time": "2022-12-25T13:54:42.983Z"
   },
   {
    "duration": 139,
    "start_time": "2022-12-25T13:54:44.480Z"
   },
   {
    "duration": 16,
    "start_time": "2022-12-25T13:54:44.621Z"
   },
   {
    "duration": 298,
    "start_time": "2022-12-25T13:54:44.644Z"
   },
   {
    "duration": 300,
    "start_time": "2022-12-25T13:54:44.949Z"
   },
   {
    "duration": 40738,
    "start_time": "2022-12-25T13:54:45.251Z"
   },
   {
    "duration": 92376,
    "start_time": "2022-12-25T13:55:25.991Z"
   },
   {
    "duration": 95651,
    "start_time": "2022-12-25T13:56:58.370Z"
   },
   {
    "duration": 63747,
    "start_time": "2022-12-25T13:58:34.023Z"
   },
   {
    "duration": 322,
    "start_time": "2022-12-25T13:59:37.772Z"
   },
   {
    "duration": 288,
    "start_time": "2022-12-25T13:59:38.096Z"
   },
   {
    "duration": 268,
    "start_time": "2022-12-25T13:59:38.386Z"
   },
   {
    "duration": 120,
    "start_time": "2022-12-25T13:59:38.656Z"
   },
   {
    "duration": 73,
    "start_time": "2022-12-25T13:59:38.777Z"
   },
   {
    "duration": 20,
    "start_time": "2022-12-25T13:59:38.853Z"
   },
   {
    "duration": 624,
    "start_time": "2022-12-25T13:59:38.875Z"
   },
   {
    "duration": 11,
    "start_time": "2022-12-25T13:59:39.501Z"
   },
   {
    "duration": 336,
    "start_time": "2022-12-25T13:59:39.514Z"
   },
   {
    "duration": 621,
    "start_time": "2022-12-25T13:59:39.852Z"
   },
   {
    "duration": 7,
    "start_time": "2022-12-25T13:59:40.475Z"
   },
   {
    "duration": 51077,
    "start_time": "2022-12-25T13:59:40.484Z"
   },
   {
    "duration": 108,
    "start_time": "2022-12-25T14:00:31.563Z"
   },
   {
    "duration": 691,
    "start_time": "2022-12-25T14:00:31.673Z"
   },
   {
    "duration": 534,
    "start_time": "2022-12-25T14:00:32.366Z"
   },
   {
    "duration": 627,
    "start_time": "2022-12-25T14:00:32.902Z"
   },
   {
    "duration": 18,
    "start_time": "2022-12-25T14:00:33.535Z"
   },
   {
    "duration": 13,
    "start_time": "2022-12-25T14:00:33.555Z"
   },
   {
    "duration": 68,
    "start_time": "2022-12-25T14:00:33.570Z"
   },
   {
    "duration": 21,
    "start_time": "2022-12-25T14:00:33.640Z"
   },
   {
    "duration": 88,
    "start_time": "2022-12-25T14:00:33.664Z"
   },
   {
    "duration": 12,
    "start_time": "2022-12-25T14:00:33.754Z"
   },
   {
    "duration": 31,
    "start_time": "2022-12-25T14:00:33.768Z"
   },
   {
    "duration": 6,
    "start_time": "2022-12-25T14:00:33.801Z"
   },
   {
    "duration": 61,
    "start_time": "2022-12-25T14:00:33.808Z"
   },
   {
    "duration": 109,
    "start_time": "2022-12-25T14:00:33.871Z"
   },
   {
    "duration": 57,
    "start_time": "2022-12-25T14:00:33.983Z"
   },
   {
    "duration": 31,
    "start_time": "2022-12-25T14:00:34.048Z"
   },
   {
    "duration": 10,
    "start_time": "2022-12-25T14:00:34.081Z"
   },
   {
    "duration": 183,
    "start_time": "2022-12-25T14:00:34.093Z"
   },
   {
    "duration": 144,
    "start_time": "2022-12-25T14:00:34.278Z"
   },
   {
    "duration": 172,
    "start_time": "2022-12-25T14:00:34.424Z"
   },
   {
    "duration": 81,
    "start_time": "2022-12-25T14:00:34.598Z"
   },
   {
    "duration": 260,
    "start_time": "2022-12-25T14:00:34.680Z"
   },
   {
    "duration": 150,
    "start_time": "2022-12-25T14:00:34.945Z"
   },
   {
    "duration": 6646,
    "start_time": "2022-12-25T14:00:35.097Z"
   },
   {
    "duration": 4,
    "start_time": "2022-12-25T14:00:41.744Z"
   },
   {
    "duration": 12,
    "start_time": "2022-12-25T14:00:41.753Z"
   },
   {
    "duration": 26,
    "start_time": "2022-12-25T14:00:41.767Z"
   },
   {
    "duration": 177508,
    "start_time": "2022-12-25T14:00:41.795Z"
   },
   {
    "duration": 15,
    "start_time": "2022-12-25T14:03:39.306Z"
   },
   {
    "duration": 839,
    "start_time": "2022-12-25T14:03:39.336Z"
   },
   {
    "duration": 121591,
    "start_time": "2022-12-25T14:03:40.177Z"
   },
   {
    "duration": 262,
    "start_time": "2022-12-25T14:05:41.770Z"
   },
   {
    "duration": 4119421,
    "start_time": "2022-12-25T14:05:42.034Z"
   },
   {
    "duration": 20,
    "start_time": "2022-12-25T15:14:21.456Z"
   },
   {
    "duration": 126174,
    "start_time": "2022-12-25T15:14:21.477Z"
   },
   {
    "duration": 128,
    "start_time": "2022-12-25T15:23:25.589Z"
   },
   {
    "duration": 2270,
    "start_time": "2022-12-25T15:23:53.687Z"
   },
   {
    "duration": 1673,
    "start_time": "2022-12-25T15:23:55.959Z"
   },
   {
    "duration": 1450,
    "start_time": "2022-12-25T15:23:57.633Z"
   },
   {
    "duration": 152,
    "start_time": "2022-12-25T15:23:59.085Z"
   },
   {
    "duration": 5,
    "start_time": "2022-12-25T15:23:59.251Z"
   },
   {
    "duration": 284,
    "start_time": "2022-12-25T15:23:59.258Z"
   },
   {
    "duration": 277,
    "start_time": "2022-12-25T15:23:59.548Z"
   },
   {
    "duration": 39644,
    "start_time": "2022-12-25T15:23:59.826Z"
   },
   {
    "duration": 90252,
    "start_time": "2022-12-25T15:24:39.472Z"
   },
   {
    "duration": 97363,
    "start_time": "2022-12-25T15:26:09.727Z"
   },
   {
    "duration": 63654,
    "start_time": "2022-12-25T15:27:47.092Z"
   },
   {
    "duration": 307,
    "start_time": "2022-12-25T15:28:50.748Z"
   },
   {
    "duration": 276,
    "start_time": "2022-12-25T15:28:51.057Z"
   },
   {
    "duration": 272,
    "start_time": "2022-12-25T15:28:51.335Z"
   },
   {
    "duration": 143,
    "start_time": "2022-12-25T15:28:51.608Z"
   },
   {
    "duration": 56,
    "start_time": "2022-12-25T15:28:51.753Z"
   },
   {
    "duration": 38,
    "start_time": "2022-12-25T15:28:51.811Z"
   },
   {
    "duration": 379,
    "start_time": "2022-12-25T15:28:51.851Z"
   },
   {
    "duration": 14,
    "start_time": "2022-12-25T15:28:52.232Z"
   },
   {
    "duration": 462,
    "start_time": "2022-12-25T15:28:52.252Z"
   },
   {
    "duration": 658,
    "start_time": "2022-12-25T15:28:52.717Z"
   },
   {
    "duration": 7,
    "start_time": "2022-12-25T15:28:53.377Z"
   },
   {
    "duration": 52344,
    "start_time": "2022-12-25T15:28:53.386Z"
   },
   {
    "duration": 116,
    "start_time": "2022-12-25T15:29:45.739Z"
   },
   {
    "duration": 720,
    "start_time": "2022-12-25T15:29:45.860Z"
   },
   {
    "duration": 446,
    "start_time": "2022-12-25T15:29:46.582Z"
   },
   {
    "duration": 692,
    "start_time": "2022-12-25T15:29:47.030Z"
   },
   {
    "duration": 19,
    "start_time": "2022-12-25T15:29:47.726Z"
   },
   {
    "duration": 17,
    "start_time": "2022-12-25T15:29:47.752Z"
   },
   {
    "duration": 60,
    "start_time": "2022-12-25T15:29:47.771Z"
   },
   {
    "duration": 24,
    "start_time": "2022-12-25T15:29:47.832Z"
   },
   {
    "duration": 95,
    "start_time": "2022-12-25T15:29:47.858Z"
   },
   {
    "duration": 9,
    "start_time": "2022-12-25T15:29:47.955Z"
   },
   {
    "duration": 40,
    "start_time": "2022-12-25T15:29:47.966Z"
   },
   {
    "duration": 8,
    "start_time": "2022-12-25T15:29:48.008Z"
   },
   {
    "duration": 52,
    "start_time": "2022-12-25T15:29:48.035Z"
   },
   {
    "duration": 123,
    "start_time": "2022-12-25T15:29:48.089Z"
   },
   {
    "duration": 54,
    "start_time": "2022-12-25T15:29:48.214Z"
   },
   {
    "duration": 30,
    "start_time": "2022-12-25T15:29:48.269Z"
   },
   {
    "duration": 8,
    "start_time": "2022-12-25T15:29:48.301Z"
   },
   {
    "duration": 205,
    "start_time": "2022-12-25T15:29:48.311Z"
   },
   {
    "duration": 170,
    "start_time": "2022-12-25T15:29:48.517Z"
   },
   {
    "duration": 190,
    "start_time": "2022-12-25T15:29:48.689Z"
   },
   {
    "duration": 80,
    "start_time": "2022-12-25T15:29:48.881Z"
   },
   {
    "duration": 252,
    "start_time": "2022-12-25T15:29:48.963Z"
   },
   {
    "duration": 179,
    "start_time": "2022-12-25T15:29:49.218Z"
   },
   {
    "duration": 5616,
    "start_time": "2022-12-25T15:29:49.400Z"
   },
   {
    "duration": 5,
    "start_time": "2022-12-25T15:29:55.018Z"
   },
   {
    "duration": 26,
    "start_time": "2022-12-25T15:29:55.035Z"
   },
   {
    "duration": 15,
    "start_time": "2022-12-25T15:29:55.062Z"
   },
   {
    "duration": 185833,
    "start_time": "2022-12-25T15:29:55.080Z"
   },
   {
    "duration": 15,
    "start_time": "2022-12-25T15:33:00.914Z"
   },
   {
    "duration": 877,
    "start_time": "2022-12-25T15:33:00.935Z"
   },
   {
    "duration": 124146,
    "start_time": "2022-12-25T15:33:01.814Z"
   },
   {
    "duration": 233,
    "start_time": "2022-12-25T15:35:05.962Z"
   },
   {
    "duration": 4040002,
    "start_time": "2022-12-25T15:35:06.197Z"
   },
   {
    "duration": 20,
    "start_time": "2022-12-25T16:42:26.200Z"
   },
   {
    "duration": 103220,
    "start_time": "2022-12-25T16:42:26.222Z"
   },
   {
    "duration": 205,
    "start_time": "2022-12-25T16:45:25.558Z"
   },
   {
    "duration": 3621,
    "start_time": "2022-12-25T16:46:19.663Z"
   },
   {
    "duration": 2172,
    "start_time": "2022-12-25T16:46:23.287Z"
   },
   {
    "duration": 1538,
    "start_time": "2022-12-25T16:46:25.461Z"
   },
   {
    "duration": 158,
    "start_time": "2022-12-25T16:46:27.001Z"
   },
   {
    "duration": 5,
    "start_time": "2022-12-25T16:46:27.160Z"
   },
   {
    "duration": 320,
    "start_time": "2022-12-25T16:46:27.166Z"
   },
   {
    "duration": 298,
    "start_time": "2022-12-25T16:46:27.488Z"
   },
   {
    "duration": 38729,
    "start_time": "2022-12-25T16:46:27.788Z"
   },
   {
    "duration": 92058,
    "start_time": "2022-12-25T16:47:06.518Z"
   },
   {
    "duration": 95048,
    "start_time": "2022-12-25T16:48:38.578Z"
   },
   {
    "duration": 62299,
    "start_time": "2022-12-25T16:50:13.628Z"
   },
   {
    "duration": 334,
    "start_time": "2022-12-25T16:51:15.928Z"
   },
   {
    "duration": 303,
    "start_time": "2022-12-25T16:51:16.264Z"
   },
   {
    "duration": 319,
    "start_time": "2022-12-25T16:51:16.568Z"
   },
   {
    "duration": 134,
    "start_time": "2022-12-25T16:51:16.889Z"
   },
   {
    "duration": 68,
    "start_time": "2022-12-25T16:51:17.025Z"
   },
   {
    "duration": 21,
    "start_time": "2022-12-25T16:51:17.095Z"
   },
   {
    "duration": 392,
    "start_time": "2022-12-25T16:51:17.117Z"
   },
   {
    "duration": 9,
    "start_time": "2022-12-25T16:51:17.511Z"
   },
   {
    "duration": 425,
    "start_time": "2022-12-25T16:51:17.521Z"
   },
   {
    "duration": 630,
    "start_time": "2022-12-25T16:51:17.951Z"
   },
   {
    "duration": 7,
    "start_time": "2022-12-25T16:51:18.584Z"
   },
   {
    "duration": 54611,
    "start_time": "2022-12-25T16:51:18.593Z"
   },
   {
    "duration": 124,
    "start_time": "2022-12-25T16:52:13.206Z"
   },
   {
    "duration": 715,
    "start_time": "2022-12-25T16:52:13.332Z"
   },
   {
    "duration": 417,
    "start_time": "2022-12-25T16:52:14.050Z"
   },
   {
    "duration": 690,
    "start_time": "2022-12-25T16:52:14.469Z"
   },
   {
    "duration": 8,
    "start_time": "2022-12-25T16:52:15.165Z"
   },
   {
    "duration": 18,
    "start_time": "2022-12-25T16:52:15.175Z"
   },
   {
    "duration": 88,
    "start_time": "2022-12-25T16:52:15.195Z"
   },
   {
    "duration": 19,
    "start_time": "2022-12-25T16:52:15.286Z"
   },
   {
    "duration": 107,
    "start_time": "2022-12-25T16:52:15.307Z"
   },
   {
    "duration": 8,
    "start_time": "2022-12-25T16:52:15.415Z"
   },
   {
    "duration": 68,
    "start_time": "2022-12-25T16:52:15.435Z"
   },
   {
    "duration": 7,
    "start_time": "2022-12-25T16:52:15.505Z"
   },
   {
    "duration": 62,
    "start_time": "2022-12-25T16:52:15.514Z"
   },
   {
    "duration": 111,
    "start_time": "2022-12-25T16:52:15.578Z"
   },
   {
    "duration": 54,
    "start_time": "2022-12-25T16:52:15.692Z"
   },
   {
    "duration": 33,
    "start_time": "2022-12-25T16:52:15.751Z"
   },
   {
    "duration": 8,
    "start_time": "2022-12-25T16:52:15.785Z"
   },
   {
    "duration": 203,
    "start_time": "2022-12-25T16:52:15.794Z"
   },
   {
    "duration": 157,
    "start_time": "2022-12-25T16:52:15.999Z"
   },
   {
    "duration": 177,
    "start_time": "2022-12-25T16:52:16.159Z"
   },
   {
    "duration": 64,
    "start_time": "2022-12-25T16:52:16.339Z"
   },
   {
    "duration": 280,
    "start_time": "2022-12-25T16:52:16.404Z"
   },
   {
    "duration": 161,
    "start_time": "2022-12-25T16:52:16.686Z"
   },
   {
    "duration": 5622,
    "start_time": "2022-12-25T16:52:16.849Z"
   },
   {
    "duration": 6,
    "start_time": "2022-12-25T16:52:22.473Z"
   },
   {
    "duration": 42,
    "start_time": "2022-12-25T16:52:22.481Z"
   },
   {
    "duration": 57,
    "start_time": "2022-12-25T16:52:22.525Z"
   },
   {
    "duration": 183440,
    "start_time": "2022-12-25T16:52:22.584Z"
   },
   {
    "duration": 25,
    "start_time": "2022-12-25T16:55:26.026Z"
   },
   {
    "duration": 921,
    "start_time": "2022-12-25T16:55:26.056Z"
   },
   {
    "duration": 124444,
    "start_time": "2022-12-25T16:55:26.980Z"
   },
   {
    "duration": 248,
    "start_time": "2022-12-25T17:01:06.453Z"
   },
   {
    "duration": 168503,
    "start_time": "2022-12-25T17:01:25.550Z"
   }
  ],
  "kernelspec": {
   "display_name": "Python 3 (ipykernel)",
   "language": "python",
   "name": "python3"
  },
  "language_info": {
   "codemirror_mode": {
    "name": "ipython",
    "version": 3
   },
   "file_extension": ".py",
   "mimetype": "text/x-python",
   "name": "python",
   "nbconvert_exporter": "python",
   "pygments_lexer": "ipython3",
   "version": "3.9.13"
  },
  "toc": {
   "base_numbering": 1,
   "nav_menu": {},
   "number_sections": true,
   "sideBar": true,
   "skip_h1_title": true,
   "title_cell": "Table of Contents",
   "title_sidebar": "Contents",
   "toc_cell": false,
   "toc_position": {},
   "toc_section_display": true,
   "toc_window_display": false
  }
 },
 "nbformat": 4,
 "nbformat_minor": 2
}
